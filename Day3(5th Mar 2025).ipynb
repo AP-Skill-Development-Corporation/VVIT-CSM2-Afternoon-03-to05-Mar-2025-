{
 "cells": [
  {
   "cell_type": "code",
   "execution_count": 2,
   "id": "66494e78",
   "metadata": {},
   "outputs": [],
   "source": [
    "import numpy as np\n",
    "import pandas as pd"
   ]
  },
  {
   "cell_type": "code",
   "execution_count": 4,
   "id": "655b082e",
   "metadata": {
    "collapsed": true
   },
   "outputs": [
    {
     "data": {
      "text/plain": [
       "array([[0.5037409 , 0.07302136, 0.14783759, 0.3657999 ],\n",
       "       [0.17549653, 0.56792542, 0.21268789, 0.83335587],\n",
       "       [0.32244047, 0.93483715, 0.28519256, 0.38037685],\n",
       "       [0.07179874, 0.55199336, 0.19177569, 0.7355894 ]])"
      ]
     },
     "execution_count": 4,
     "metadata": {},
     "output_type": "execute_result"
    }
   ],
   "source": [
    "ran=np.random.random((4,4)) # generates random float values\n",
    "# b/w 0&1\n",
    "ran"
   ]
  },
  {
   "cell_type": "code",
   "execution_count": 5,
   "id": "4507a3d3",
   "metadata": {
    "collapsed": true
   },
   "outputs": [
    {
     "name": "stdout",
     "output_type": "stream",
     "text": [
      "[[0.36072914 0.52069391 0.97080343 0.65391695]\n",
      " [0.64844434 0.39895683 0.88264832 0.40447406]\n",
      " [0.53995151 0.07408912 0.62927807 0.89632881]\n",
      " [0.59100209 0.51979535 0.90993123 0.41517583]]\n"
     ]
    }
   ],
   "source": [
    "print(np.random.rand(4,4))"
   ]
  },
  {
   "cell_type": "code",
   "execution_count": 6,
   "id": "772939f9",
   "metadata": {
    "collapsed": true
   },
   "outputs": [
    {
     "name": "stdout",
     "output_type": "stream",
     "text": [
      "[[-1.69979669  0.28901979  1.31359974  0.53041271]\n",
      " [-0.03987778 -0.94260511 -0.08274462 -1.30477339]\n",
      " [ 0.34400209  0.69314106 -0.86265735 -0.45334211]\n",
      " [-0.61026661 -1.08297837 -1.64379068  0.67842303]]\n"
     ]
    }
   ],
   "source": [
    "print(np.random.randn(4,4))"
   ]
  },
  {
   "cell_type": "code",
   "execution_count": 13,
   "id": "f832e1a8",
   "metadata": {
    "collapsed": true
   },
   "outputs": [
    {
     "data": {
      "text/plain": [
       "array([[[168, 211, 250, 283, 281, 212, 292, 258, 122, 224],\n",
       "        [128, 231, 202, 199, 163, 184, 172, 200, 288, 224],\n",
       "        [131, 235, 120, 220, 227, 275, 123, 196, 118, 292]],\n",
       "\n",
       "       [[133, 243, 160, 122, 271, 254, 129, 246, 212, 234],\n",
       "        [125, 221, 123, 192, 295, 111, 187, 111, 104, 144],\n",
       "        [256, 170, 153, 264, 103, 260, 241, 249, 155, 176]]])"
      ]
     },
     "execution_count": 13,
     "metadata": {},
     "output_type": "execute_result"
    }
   ],
   "source": [
    "# arithmetic operations on arrays\n",
    "ar=np.random.randint(100,300,60) # st,stp,n\n",
    "# 60:(1,60),(2,30),(3,20),(4,15),(5,12),(6,10) and vice-versa\n",
    "# 60:(1,)\n",
    "ar.reshape(2,3,10) # 60=2*3*10 # 3d array"
   ]
  },
  {
   "cell_type": "code",
   "execution_count": 14,
   "id": "b52f6d6d",
   "metadata": {
    "collapsed": true
   },
   "outputs": [
    {
     "name": "stdout",
     "output_type": "stream",
     "text": [
      "[[[ 0  1  2  3  4]\n",
      "  [ 5  6  7  8  9]\n",
      "  [10 11 12 13 14]]\n",
      "\n",
      " [[15 16 17 18 19]\n",
      "  [20 21 22 23 24]\n",
      "  [25 26 27 28 29]]\n",
      "\n",
      " [[30 31 32 33 34]\n",
      "  [35 36 37 38 39]\n",
      "  [40 41 42 43 44]]]\n"
     ]
    }
   ],
   "source": [
    "print(np.arange(45).reshape(3,3,5))"
   ]
  },
  {
   "cell_type": "code",
   "execution_count": 15,
   "id": "85f82c79",
   "metadata": {
    "collapsed": true
   },
   "outputs": [
    {
     "name": "stdout",
     "output_type": "stream",
     "text": [
      "[[ 0  1  2  3  4]\n",
      " [ 5  6  7  8  9]\n",
      " [10 11 12 13 14]\n",
      " [15 16 17 18 19]\n",
      " [20 21 22 23 24]]\n",
      "[[459 119 292 143  86]\n",
      " [ 27 294 257 411  91]\n",
      " [178 201 152  90 194]\n",
      " [236 459 270 266 189]\n",
      " [336  38 163 207 377]]\n"
     ]
    }
   ],
   "source": [
    "# create 2 equal size arrays and perform all the arithmetic operations\n",
    "man=np.arange(25).reshape(5,5)\n",
    "ran=np.random.randint(25,500,25).reshape(5,-1)\n",
    "print(man)\n",
    "print(ran)"
   ]
  },
  {
   "cell_type": "code",
   "execution_count": 16,
   "id": "aea2fa6b",
   "metadata": {
    "collapsed": true
   },
   "outputs": [
    {
     "name": "stdout",
     "output_type": "stream",
     "text": [
      "[[459 120 294 146  90]\n",
      " [ 32 300 264 419 100]\n",
      " [188 212 164 103 208]\n",
      " [251 475 287 284 208]\n",
      " [356  59 185 230 401]]\n",
      "[[459 118 290 140  82]\n",
      " [ 22 288 250 403  82]\n",
      " [168 190 140  77 180]\n",
      " [221 443 253 248 170]\n",
      " [316  17 141 184 353]]\n",
      "[[   0  119  584  429  344]\n",
      " [ 135 1764 1799 3288  819]\n",
      " [1780 2211 1824 1170 2716]\n",
      " [3540 7344 4590 4788 3591]\n",
      " [6720  798 3586 4761 9048]]\n",
      "[[         inf 119.         146.          47.66666667  21.5       ]\n",
      " [  5.4         49.          36.71428571  51.375       10.11111111]\n",
      " [ 17.8         18.27272727  12.66666667   6.92307692  13.85714286]\n",
      " [ 15.73333333  28.6875      15.88235294  14.77777778   9.94736842]\n",
      " [ 16.8          1.80952381   7.40909091   9.          15.70833333]]\n",
      "[[ 0  0  0  2  2]\n",
      " [ 2  0  5  3  1]\n",
      " [ 8  3  8 12 12]\n",
      " [11 11 15 14 18]\n",
      " [16 17  9  0 17]]\n"
     ]
    },
    {
     "name": "stderr",
     "output_type": "stream",
     "text": [
      "C:\\Users\\ruthu\\AppData\\Local\\Temp\\ipykernel_24912\\1115003698.py:5: RuntimeWarning: divide by zero encountered in true_divide\n",
      "  print(ran/man)\n",
      "C:\\Users\\ruthu\\AppData\\Local\\Temp\\ipykernel_24912\\1115003698.py:6: RuntimeWarning: divide by zero encountered in remainder\n",
      "  print(ran%man)\n"
     ]
    }
   ],
   "source": [
    "# all the arithmetic operations\n",
    "print(ran+man)\n",
    "print(ran-man)\n",
    "print(man*ran)\n",
    "print(ran/man)\n",
    "print(ran%man)"
   ]
  },
  {
   "cell_type": "code",
   "execution_count": 18,
   "id": "a4e103bd",
   "metadata": {
    "collapsed": true
   },
   "outputs": [
    {
     "name": "stdout",
     "output_type": "stream",
     "text": [
      "27\n",
      "27\n",
      "459\n",
      "459\n",
      "5535\n",
      "5535\n",
      "221.4\n",
      "221.4\n",
      "201.0\n"
     ]
    },
    {
     "ename": "AttributeError",
     "evalue": "'numpy.ndarray' object has no attribute 'median'",
     "output_type": "error",
     "traceback": [
      "\u001b[1;31m---------------------------------------------------------------------------\u001b[0m",
      "\u001b[1;31mAttributeError\u001b[0m                            Traceback (most recent call last)",
      "\u001b[1;32m~\\AppData\\Local\\Temp\\ipykernel_24912\\2793116824.py\u001b[0m in \u001b[0;36m<module>\u001b[1;34m\u001b[0m\n\u001b[0;32m     10\u001b[0m \u001b[0mprint\u001b[0m\u001b[1;33m(\u001b[0m\u001b[0mran\u001b[0m\u001b[1;33m.\u001b[0m\u001b[0mmean\u001b[0m\u001b[1;33m(\u001b[0m\u001b[1;33m)\u001b[0m\u001b[1;33m)\u001b[0m\u001b[1;33m\u001b[0m\u001b[1;33m\u001b[0m\u001b[0m\n\u001b[0;32m     11\u001b[0m \u001b[0mprint\u001b[0m\u001b[1;33m(\u001b[0m\u001b[0mnp\u001b[0m\u001b[1;33m.\u001b[0m\u001b[0mmedian\u001b[0m\u001b[1;33m(\u001b[0m\u001b[0mran\u001b[0m\u001b[1;33m)\u001b[0m\u001b[1;33m)\u001b[0m\u001b[1;33m\u001b[0m\u001b[1;33m\u001b[0m\u001b[0m\n\u001b[1;32m---> 12\u001b[1;33m \u001b[0mprint\u001b[0m\u001b[1;33m(\u001b[0m\u001b[0mran\u001b[0m\u001b[1;33m.\u001b[0m\u001b[0mmedian\u001b[0m\u001b[1;33m(\u001b[0m\u001b[1;33m)\u001b[0m\u001b[1;33m)\u001b[0m\u001b[1;33m\u001b[0m\u001b[1;33m\u001b[0m\u001b[0m\n\u001b[0m",
      "\u001b[1;31mAttributeError\u001b[0m: 'numpy.ndarray' object has no attribute 'median'"
     ]
    }
   ],
   "source": [
    "# scientific computations\n",
    "# min,max,sum,mean,median,std\n",
    "print(np.min(ran))\n",
    "print(ran.min())\n",
    "print(np.max(ran))\n",
    "print(ran.max())\n",
    "print(np.sum(ran))\n",
    "print(ran.sum())\n",
    "print(np.mean(ran))\n",
    "print(ran.mean())\n",
    "print(np.median(ran))\n",
    "print(ran.median())"
   ]
  },
  {
   "cell_type": "code",
   "execution_count": 19,
   "id": "b7417804",
   "metadata": {
    "collapsed": true
   },
   "outputs": [
    {
     "data": {
      "text/plain": [
       "0.0"
      ]
     },
     "execution_count": 19,
     "metadata": {},
     "output_type": "execute_result"
    }
   ],
   "source": [
    "# logarithms and exponentials\n",
    "np.log(1)"
   ]
  },
  {
   "cell_type": "code",
   "execution_count": 20,
   "id": "9b57521a",
   "metadata": {
    "collapsed": true
   },
   "outputs": [
    {
     "data": {
      "text/plain": [
       "array([1.79175947, 1.94591015, 2.99573227])"
      ]
     },
     "execution_count": 20,
     "metadata": {},
     "output_type": "execute_result"
    }
   ],
   "source": [
    "np.log([6,7,20])"
   ]
  },
  {
   "cell_type": "code",
   "execution_count": 21,
   "id": "241faec3",
   "metadata": {
    "collapsed": true
   },
   "outputs": [
    {
     "name": "stderr",
     "output_type": "stream",
     "text": [
      "C:\\Users\\ruthu\\AppData\\Local\\Temp\\ipykernel_24912\\3471324498.py:1: RuntimeWarning: divide by zero encountered in log\n",
      "  np.log(man)\n"
     ]
    },
    {
     "data": {
      "text/plain": [
       "array([[      -inf, 0.        , 0.69314718, 1.09861229, 1.38629436],\n",
       "       [1.60943791, 1.79175947, 1.94591015, 2.07944154, 2.19722458],\n",
       "       [2.30258509, 2.39789527, 2.48490665, 2.56494936, 2.63905733],\n",
       "       [2.7080502 , 2.77258872, 2.83321334, 2.89037176, 2.94443898],\n",
       "       [2.99573227, 3.04452244, 3.09104245, 3.13549422, 3.17805383]])"
      ]
     },
     "execution_count": 21,
     "metadata": {},
     "output_type": "execute_result"
    }
   ],
   "source": [
    "np.log(man)"
   ]
  },
  {
   "cell_type": "code",
   "execution_count": 22,
   "id": "3d93e865",
   "metadata": {
    "collapsed": true
   },
   "outputs": [
    {
     "data": {
      "text/plain": [
       "2.718281828459045"
      ]
     },
     "execution_count": 22,
     "metadata": {},
     "output_type": "execute_result"
    }
   ],
   "source": [
    "np.exp(1)"
   ]
  },
  {
   "cell_type": "code",
   "execution_count": 23,
   "id": "138a82af",
   "metadata": {
    "scrolled": true
   },
   "outputs": [
    {
     "data": {
      "text/plain": [
       "7.38905609893065"
      ]
     },
     "execution_count": 23,
     "metadata": {},
     "output_type": "execute_result"
    }
   ],
   "source": [
    "np.exp(2)"
   ]
  },
  {
   "cell_type": "code",
   "execution_count": 24,
   "id": "a1fd75ab",
   "metadata": {
    "collapsed": true
   },
   "outputs": [
    {
     "data": {
      "text/plain": [
       "array([[2.19364928e+199, 4.79781333e+051, 6.51611463e+126,\n",
       "        1.27089863e+062, 2.23524660e+037],\n",
       "       [5.32048241e+011, 4.81479366e+127, 4.10848636e+111,\n",
       "        3.12631016e+178, 3.31740010e+039],\n",
       "       [2.01566233e+077, 1.96422332e+087, 1.02981983e+066,\n",
       "        1.22040329e+039, 1.79113982e+084],\n",
       "       [3.11528461e+102, 2.19364928e+199, 1.81764939e+117,\n",
       "        3.32914098e+115, 1.20686052e+082],\n",
       "       [8.37424995e+145, 3.18559318e+016, 6.16595783e+070,\n",
       "        7.92424244e+089, 5.35820935e+163]])"
      ]
     },
     "execution_count": 24,
     "metadata": {},
     "output_type": "execute_result"
    }
   ],
   "source": [
    "np.exp(ran)"
   ]
  },
  {
   "cell_type": "code",
   "execution_count": 26,
   "id": "6b90534c",
   "metadata": {
    "collapsed": true
   },
   "outputs": [
    {
     "data": {
      "text/plain": [
       "(10, 15, [90, 34, 56])"
      ]
     },
     "execution_count": 26,
     "metadata": {},
     "output_type": "execute_result"
    }
   ],
   "source": [
    " # the difference b/w normal functions and numpy functions\n",
    "def greater(a,b):\n",
    "    if a>b:\n",
    "        return a\n",
    "    else:\n",
    "        return b\n",
    "    \n",
    "greater(5,10),greater(15,9),greater([90,34,56],[86,45,15]) # [90,45,56]"
   ]
  },
  {
   "cell_type": "code",
   "execution_count": 27,
   "id": "610150e8",
   "metadata": {
    "collapsed": true
   },
   "outputs": [
    {
     "data": {
      "text/plain": [
       "array([90, 45, 56])"
      ]
     },
     "execution_count": 27,
     "metadata": {},
     "output_type": "execute_result"
    }
   ],
   "source": [
    "g=np.vectorize(greater)\n",
    "g([90,34,56],[86,45,15])"
   ]
  },
  {
   "cell_type": "markdown",
   "id": "9d89ec1b",
   "metadata": {},
   "source": [
    "#### pandas\n",
    "- pandas means PanelData which represents the data in table format\n",
    "- it contains rows and columns\n",
    "- it has 2 data structures\n",
    "    1. Series\n",
    "        - 1 dimensional data structure\n",
    "        - sequential data points arranged either side by side or line by line\n",
    "        - pd.Series(data)\n",
    "    2. Data Frame\n",
    "        - 2d data\n",
    "        - contains rows and columns\n",
    "        - pd.DataFrame(data)"
   ]
  },
  {
   "cell_type": "code",
   "execution_count": 28,
   "id": "7dc72433",
   "metadata": {
    "collapsed": true
   },
   "outputs": [
    {
     "data": {
      "text/plain": [
       "0     4\n",
       "1     5\n",
       "2     6\n",
       "3     7\n",
       "4    10\n",
       "5    90\n",
       "dtype: int64"
      ]
     },
     "execution_count": 28,
     "metadata": {},
     "output_type": "execute_result"
    }
   ],
   "source": [
    "pd.Series([4,5,6,7,10,90])"
   ]
  },
  {
   "cell_type": "code",
   "execution_count": 30,
   "id": "6401fc14",
   "metadata": {
    "collapsed": true
   },
   "outputs": [
    {
     "data": {
      "text/plain": [
       "1     244\n",
       "2     282\n",
       "3     245\n",
       "4     144\n",
       "5     259\n",
       "6     154\n",
       "7     202\n",
       "8     233\n",
       "9     246\n",
       "10    219\n",
       "11    184\n",
       "12    285\n",
       "13    140\n",
       "14    200\n",
       "15    230\n",
       "dtype: int32"
      ]
     },
     "execution_count": 30,
     "metadata": {},
     "output_type": "execute_result"
    }
   ],
   "source": [
    "pd.Series(np.random.randint(100,303,15),index=[v for v in range(1,16)])"
   ]
  },
  {
   "cell_type": "code",
   "execution_count": 32,
   "id": "d86b4c58",
   "metadata": {
    "collapsed": true
   },
   "outputs": [
    {
     "data": {
      "text/html": [
       "<div>\n",
       "<style scoped>\n",
       "    .dataframe tbody tr th:only-of-type {\n",
       "        vertical-align: middle;\n",
       "    }\n",
       "\n",
       "    .dataframe tbody tr th {\n",
       "        vertical-align: top;\n",
       "    }\n",
       "\n",
       "    .dataframe thead th {\n",
       "        text-align: right;\n",
       "    }\n",
       "</style>\n",
       "<table border=\"1\" class=\"dataframe\">\n",
       "  <thead>\n",
       "    <tr style=\"text-align: right;\">\n",
       "      <th></th>\n",
       "      <th>int</th>\n",
       "      <th>float</th>\n",
       "      <th>str</th>\n",
       "    </tr>\n",
       "  </thead>\n",
       "  <tbody>\n",
       "    <tr>\n",
       "      <th>R1</th>\n",
       "      <td>1</td>\n",
       "      <td>4.2</td>\n",
       "      <td>a</td>\n",
       "    </tr>\n",
       "    <tr>\n",
       "      <th>R2</th>\n",
       "      <td>2</td>\n",
       "      <td>5.0</td>\n",
       "      <td>b</td>\n",
       "    </tr>\n",
       "    <tr>\n",
       "      <th>R3</th>\n",
       "      <td>3</td>\n",
       "      <td>6.3</td>\n",
       "      <td>c</td>\n",
       "    </tr>\n",
       "  </tbody>\n",
       "</table>\n",
       "</div>"
      ],
      "text/plain": [
       "    int  float str\n",
       "R1    1    4.2   a\n",
       "R2    2    5.0   b\n",
       "R3    3    6.3   c"
      ]
     },
     "execution_count": 32,
     "metadata": {},
     "output_type": "execute_result"
    }
   ],
   "source": [
    "# data frame\n",
    "df=pd.DataFrame({'int':(1,2,3),'float':[4.2,5.0,6.3],\n",
    "                'str':['a','b','c']},index=['R1','R2','R3'])\n",
    "df"
   ]
  },
  {
   "cell_type": "code",
   "execution_count": 33,
   "id": "611cb58b",
   "metadata": {
    "collapsed": true
   },
   "outputs": [
    {
     "data": {
      "text/html": [
       "<div>\n",
       "<style scoped>\n",
       "    .dataframe tbody tr th:only-of-type {\n",
       "        vertical-align: middle;\n",
       "    }\n",
       "\n",
       "    .dataframe tbody tr th {\n",
       "        vertical-align: top;\n",
       "    }\n",
       "\n",
       "    .dataframe thead th {\n",
       "        text-align: right;\n",
       "    }\n",
       "</style>\n",
       "<table border=\"1\" class=\"dataframe\">\n",
       "  <thead>\n",
       "    <tr style=\"text-align: right;\">\n",
       "      <th></th>\n",
       "      <th>Student</th>\n",
       "      <th>Faculty</th>\n",
       "      <th>ML</th>\n",
       "      <th>DS</th>\n",
       "      <th>CC</th>\n",
       "      <th>Web</th>\n",
       "      <th>Java</th>\n",
       "      <th>Python</th>\n",
       "      <th>C</th>\n",
       "      <th>DBMS</th>\n",
       "      <th>OS</th>\n",
       "      <th>Algorithms</th>\n",
       "      <th>CN</th>\n",
       "    </tr>\n",
       "  </thead>\n",
       "  <tbody>\n",
       "    <tr>\n",
       "      <th>0</th>\n",
       "      <td>Pravallika</td>\n",
       "      <td>Madhu</td>\n",
       "      <td>87</td>\n",
       "      <td>88</td>\n",
       "      <td>91</td>\n",
       "      <td>92</td>\n",
       "      <td>90</td>\n",
       "      <td>96.0</td>\n",
       "      <td>85</td>\n",
       "      <td>95</td>\n",
       "      <td>95</td>\n",
       "      <td>89.0</td>\n",
       "      <td>NaN</td>\n",
       "    </tr>\n",
       "    <tr>\n",
       "      <th>1</th>\n",
       "      <td>Bhanu</td>\n",
       "      <td>Neil</td>\n",
       "      <td>94</td>\n",
       "      <td>88</td>\n",
       "      <td>92</td>\n",
       "      <td>90</td>\n",
       "      <td>92</td>\n",
       "      <td>94.0</td>\n",
       "      <td>94</td>\n",
       "      <td>93</td>\n",
       "      <td>95</td>\n",
       "      <td>96.0</td>\n",
       "      <td>NaN</td>\n",
       "    </tr>\n",
       "    <tr>\n",
       "      <th>2</th>\n",
       "      <td>Chandrika</td>\n",
       "      <td>Abhishek</td>\n",
       "      <td>99</td>\n",
       "      <td>87</td>\n",
       "      <td>89</td>\n",
       "      <td>92</td>\n",
       "      <td>94</td>\n",
       "      <td>87.0</td>\n",
       "      <td>9488</td>\n",
       "      <td>91</td>\n",
       "      <td>98</td>\n",
       "      <td>NaN</td>\n",
       "      <td>NaN</td>\n",
       "    </tr>\n",
       "    <tr>\n",
       "      <th>3</th>\n",
       "      <td>Divya</td>\n",
       "      <td>Chandana</td>\n",
       "      <td>88</td>\n",
       "      <td>89</td>\n",
       "      <td>97</td>\n",
       "      <td>92</td>\n",
       "      <td>87</td>\n",
       "      <td>930.0</td>\n",
       "      <td>87</td>\n",
       "      <td>89</td>\n",
       "      <td>89</td>\n",
       "      <td>NaN</td>\n",
       "      <td>NaN</td>\n",
       "    </tr>\n",
       "    <tr>\n",
       "      <th>4</th>\n",
       "      <td>Elisha</td>\n",
       "      <td>Harsha</td>\n",
       "      <td>95</td>\n",
       "      <td>85</td>\n",
       "      <td>91</td>\n",
       "      <td>95</td>\n",
       "      <td>85</td>\n",
       "      <td>97.0</td>\n",
       "      <td>91</td>\n",
       "      <td>89</td>\n",
       "      <td>86</td>\n",
       "      <td>100.0</td>\n",
       "      <td>100.0</td>\n",
       "    </tr>\n",
       "    <tr>\n",
       "      <th>5</th>\n",
       "      <td>Thanuja</td>\n",
       "      <td>Lalitha</td>\n",
       "      <td>87</td>\n",
       "      <td>92</td>\n",
       "      <td>96</td>\n",
       "      <td>91</td>\n",
       "      <td>90</td>\n",
       "      <td>98.0</td>\n",
       "      <td>87</td>\n",
       "      <td>91</td>\n",
       "      <td>96</td>\n",
       "      <td>87.0</td>\n",
       "      <td>NaN</td>\n",
       "    </tr>\n",
       "    <tr>\n",
       "      <th>6</th>\n",
       "      <td>Divya</td>\n",
       "      <td>Maalathi</td>\n",
       "      <td>93</td>\n",
       "      <td>87</td>\n",
       "      <td>91</td>\n",
       "      <td>90</td>\n",
       "      <td>99</td>\n",
       "      <td>94.0</td>\n",
       "      <td>91</td>\n",
       "      <td>90</td>\n",
       "      <td>87</td>\n",
       "      <td>93.0</td>\n",
       "      <td>98.0</td>\n",
       "    </tr>\n",
       "    <tr>\n",
       "      <th>7</th>\n",
       "      <td>Fathima</td>\n",
       "      <td>Nithesh</td>\n",
       "      <td>98</td>\n",
       "      <td>89</td>\n",
       "      <td>90</td>\n",
       "      <td>91</td>\n",
       "      <td>95</td>\n",
       "      <td>90.0</td>\n",
       "      <td>98</td>\n",
       "      <td>99</td>\n",
       "      <td>85</td>\n",
       "      <td>95.0</td>\n",
       "      <td>NaN</td>\n",
       "    </tr>\n",
       "    <tr>\n",
       "      <th>8</th>\n",
       "      <td>Kavya</td>\n",
       "      <td>Ashok</td>\n",
       "      <td>96</td>\n",
       "      <td>94</td>\n",
       "      <td>91</td>\n",
       "      <td>97</td>\n",
       "      <td>92</td>\n",
       "      <td>NaN</td>\n",
       "      <td>85</td>\n",
       "      <td>90</td>\n",
       "      <td>93</td>\n",
       "      <td>100.0</td>\n",
       "      <td>NaN</td>\n",
       "    </tr>\n",
       "    <tr>\n",
       "      <th>9</th>\n",
       "      <td>Neelima</td>\n",
       "      <td>Bhavya</td>\n",
       "      <td>91</td>\n",
       "      <td>89</td>\n",
       "      <td>97</td>\n",
       "      <td>86</td>\n",
       "      <td>87</td>\n",
       "      <td>86.0</td>\n",
       "      <td>95</td>\n",
       "      <td>97</td>\n",
       "      <td>99</td>\n",
       "      <td>92.0</td>\n",
       "      <td>NaN</td>\n",
       "    </tr>\n",
       "    <tr>\n",
       "      <th>10</th>\n",
       "      <td>Navya</td>\n",
       "      <td>Dinesh</td>\n",
       "      <td>96</td>\n",
       "      <td>96</td>\n",
       "      <td>87</td>\n",
       "      <td>90</td>\n",
       "      <td>93</td>\n",
       "      <td>97.0</td>\n",
       "      <td>100</td>\n",
       "      <td>91</td>\n",
       "      <td>88</td>\n",
       "      <td>93.0</td>\n",
       "      <td>89.0</td>\n",
       "    </tr>\n",
       "    <tr>\n",
       "      <th>11</th>\n",
       "      <td>Sindhu</td>\n",
       "      <td>Yamini</td>\n",
       "      <td>97</td>\n",
       "      <td>90</td>\n",
       "      <td>92</td>\n",
       "      <td>91</td>\n",
       "      <td>85</td>\n",
       "      <td>85.0</td>\n",
       "      <td>98</td>\n",
       "      <td>100</td>\n",
       "      <td>93</td>\n",
       "      <td>88.0</td>\n",
       "      <td>100.0</td>\n",
       "    </tr>\n",
       "    <tr>\n",
       "      <th>12</th>\n",
       "      <td>Mallika</td>\n",
       "      <td>Geethika'</td>\n",
       "      <td>95</td>\n",
       "      <td>94</td>\n",
       "      <td>95</td>\n",
       "      <td>92</td>\n",
       "      <td>100</td>\n",
       "      <td>89.0</td>\n",
       "      <td>88</td>\n",
       "      <td>89</td>\n",
       "      <td>85</td>\n",
       "      <td>91.0</td>\n",
       "      <td>97.0</td>\n",
       "    </tr>\n",
       "    <tr>\n",
       "      <th>13</th>\n",
       "      <td>Madhavi</td>\n",
       "      <td>S</td>\n",
       "      <td>87</td>\n",
       "      <td>97</td>\n",
       "      <td>93</td>\n",
       "      <td>88</td>\n",
       "      <td>91</td>\n",
       "      <td>97.0</td>\n",
       "      <td>97</td>\n",
       "      <td>99</td>\n",
       "      <td>87</td>\n",
       "      <td>98.0</td>\n",
       "      <td>86.0</td>\n",
       "    </tr>\n",
       "    <tr>\n",
       "      <th>14</th>\n",
       "      <td>Naresh</td>\n",
       "      <td>x</td>\n",
       "      <td>97</td>\n",
       "      <td>99</td>\n",
       "      <td>97</td>\n",
       "      <td>99</td>\n",
       "      <td>91</td>\n",
       "      <td>98.0</td>\n",
       "      <td>92</td>\n",
       "      <td>94</td>\n",
       "      <td>90</td>\n",
       "      <td>90.0</td>\n",
       "      <td>93.0</td>\n",
       "    </tr>\n",
       "  </tbody>\n",
       "</table>\n",
       "</div>"
      ],
      "text/plain": [
       "       Student    Faculty  ML  DS  CC  Web  Java  Python     C  DBMS  OS  \\\n",
       "0   Pravallika      Madhu  87  88  91   92    90    96.0    85    95  95   \n",
       "1        Bhanu       Neil  94  88  92   90    92    94.0    94    93  95   \n",
       "2    Chandrika   Abhishek  99  87  89   92    94    87.0  9488    91  98   \n",
       "3        Divya   Chandana  88  89  97   92    87   930.0    87    89  89   \n",
       "4       Elisha     Harsha  95  85  91   95    85    97.0    91    89  86   \n",
       "5      Thanuja    Lalitha  87  92  96   91    90    98.0    87    91  96   \n",
       "6        Divya   Maalathi  93  87  91   90    99    94.0    91    90  87   \n",
       "7      Fathima    Nithesh  98  89  90   91    95    90.0    98    99  85   \n",
       "8        Kavya      Ashok  96  94  91   97    92     NaN    85    90  93   \n",
       "9      Neelima     Bhavya  91  89  97   86    87    86.0    95    97  99   \n",
       "10       Navya     Dinesh  96  96  87   90    93    97.0   100    91  88   \n",
       "11      Sindhu     Yamini  97  90  92   91    85    85.0    98   100  93   \n",
       "12     Mallika  Geethika'  95  94  95   92   100    89.0    88    89  85   \n",
       "13     Madhavi          S  87  97  93   88    91    97.0    97    99  87   \n",
       "14      Naresh          x  97  99  97   99    91    98.0    92    94  90   \n",
       "\n",
       "    Algorithms     CN  \n",
       "0         89.0    NaN  \n",
       "1         96.0    NaN  \n",
       "2          NaN    NaN  \n",
       "3          NaN    NaN  \n",
       "4        100.0  100.0  \n",
       "5         87.0    NaN  \n",
       "6         93.0   98.0  \n",
       "7         95.0    NaN  \n",
       "8        100.0    NaN  \n",
       "9         92.0    NaN  \n",
       "10        93.0   89.0  \n",
       "11        88.0  100.0  \n",
       "12        91.0   97.0  \n",
       "13        98.0   86.0  \n",
       "14        90.0   93.0  "
      ]
     },
     "execution_count": 33,
     "metadata": {},
     "output_type": "execute_result"
    }
   ],
   "source": [
    "# working with .csv file\n",
    "data=pd.read_csv(\"clg.csv\")\n",
    "data"
   ]
  },
  {
   "cell_type": "code",
   "execution_count": 34,
   "id": "7b4e27e3",
   "metadata": {
    "collapsed": true
   },
   "outputs": [
    {
     "data": {
      "text/html": [
       "<div>\n",
       "<style scoped>\n",
       "    .dataframe tbody tr th:only-of-type {\n",
       "        vertical-align: middle;\n",
       "    }\n",
       "\n",
       "    .dataframe tbody tr th {\n",
       "        vertical-align: top;\n",
       "    }\n",
       "\n",
       "    .dataframe thead th {\n",
       "        text-align: right;\n",
       "    }\n",
       "</style>\n",
       "<table border=\"1\" class=\"dataframe\">\n",
       "  <thead>\n",
       "    <tr style=\"text-align: right;\">\n",
       "      <th></th>\n",
       "      <th>Student</th>\n",
       "      <th>Faculty</th>\n",
       "      <th>ML</th>\n",
       "      <th>DS</th>\n",
       "      <th>CC</th>\n",
       "      <th>Web</th>\n",
       "      <th>Java</th>\n",
       "      <th>Python</th>\n",
       "      <th>C</th>\n",
       "      <th>DBMS</th>\n",
       "      <th>OS</th>\n",
       "      <th>Algorithms</th>\n",
       "      <th>CN</th>\n",
       "    </tr>\n",
       "  </thead>\n",
       "  <tbody>\n",
       "    <tr>\n",
       "      <th>0</th>\n",
       "      <td>Pravallika</td>\n",
       "      <td>Madhu</td>\n",
       "      <td>87</td>\n",
       "      <td>88</td>\n",
       "      <td>91</td>\n",
       "      <td>92</td>\n",
       "      <td>90</td>\n",
       "      <td>96.0</td>\n",
       "      <td>85</td>\n",
       "      <td>95</td>\n",
       "      <td>95</td>\n",
       "      <td>89.0</td>\n",
       "      <td>NaN</td>\n",
       "    </tr>\n",
       "    <tr>\n",
       "      <th>1</th>\n",
       "      <td>Bhanu</td>\n",
       "      <td>Neil</td>\n",
       "      <td>94</td>\n",
       "      <td>88</td>\n",
       "      <td>92</td>\n",
       "      <td>90</td>\n",
       "      <td>92</td>\n",
       "      <td>94.0</td>\n",
       "      <td>94</td>\n",
       "      <td>93</td>\n",
       "      <td>95</td>\n",
       "      <td>96.0</td>\n",
       "      <td>NaN</td>\n",
       "    </tr>\n",
       "    <tr>\n",
       "      <th>2</th>\n",
       "      <td>Chandrika</td>\n",
       "      <td>Abhishek</td>\n",
       "      <td>99</td>\n",
       "      <td>87</td>\n",
       "      <td>89</td>\n",
       "      <td>92</td>\n",
       "      <td>94</td>\n",
       "      <td>87.0</td>\n",
       "      <td>9488</td>\n",
       "      <td>91</td>\n",
       "      <td>98</td>\n",
       "      <td>NaN</td>\n",
       "      <td>NaN</td>\n",
       "    </tr>\n",
       "    <tr>\n",
       "      <th>3</th>\n",
       "      <td>Divya</td>\n",
       "      <td>Chandana</td>\n",
       "      <td>88</td>\n",
       "      <td>89</td>\n",
       "      <td>97</td>\n",
       "      <td>92</td>\n",
       "      <td>87</td>\n",
       "      <td>930.0</td>\n",
       "      <td>87</td>\n",
       "      <td>89</td>\n",
       "      <td>89</td>\n",
       "      <td>NaN</td>\n",
       "      <td>NaN</td>\n",
       "    </tr>\n",
       "    <tr>\n",
       "      <th>4</th>\n",
       "      <td>Elisha</td>\n",
       "      <td>Harsha</td>\n",
       "      <td>95</td>\n",
       "      <td>85</td>\n",
       "      <td>91</td>\n",
       "      <td>95</td>\n",
       "      <td>85</td>\n",
       "      <td>97.0</td>\n",
       "      <td>91</td>\n",
       "      <td>89</td>\n",
       "      <td>86</td>\n",
       "      <td>100.0</td>\n",
       "      <td>100.0</td>\n",
       "    </tr>\n",
       "  </tbody>\n",
       "</table>\n",
       "</div>"
      ],
      "text/plain": [
       "      Student   Faculty  ML  DS  CC  Web  Java  Python     C  DBMS  OS  \\\n",
       "0  Pravallika     Madhu  87  88  91   92    90    96.0    85    95  95   \n",
       "1       Bhanu      Neil  94  88  92   90    92    94.0    94    93  95   \n",
       "2   Chandrika  Abhishek  99  87  89   92    94    87.0  9488    91  98   \n",
       "3       Divya  Chandana  88  89  97   92    87   930.0    87    89  89   \n",
       "4      Elisha    Harsha  95  85  91   95    85    97.0    91    89  86   \n",
       "\n",
       "   Algorithms     CN  \n",
       "0        89.0    NaN  \n",
       "1        96.0    NaN  \n",
       "2         NaN    NaN  \n",
       "3         NaN    NaN  \n",
       "4       100.0  100.0  "
      ]
     },
     "execution_count": 34,
     "metadata": {},
     "output_type": "execute_result"
    }
   ],
   "source": [
    "# generates first five samples\n",
    "data.head()"
   ]
  },
  {
   "cell_type": "code",
   "execution_count": 36,
   "id": "e71bd686",
   "metadata": {
    "collapsed": true
   },
   "outputs": [
    {
     "data": {
      "text/html": [
       "<div>\n",
       "<style scoped>\n",
       "    .dataframe tbody tr th:only-of-type {\n",
       "        vertical-align: middle;\n",
       "    }\n",
       "\n",
       "    .dataframe tbody tr th {\n",
       "        vertical-align: top;\n",
       "    }\n",
       "\n",
       "    .dataframe thead th {\n",
       "        text-align: right;\n",
       "    }\n",
       "</style>\n",
       "<table border=\"1\" class=\"dataframe\">\n",
       "  <thead>\n",
       "    <tr style=\"text-align: right;\">\n",
       "      <th></th>\n",
       "      <th>Student</th>\n",
       "      <th>Faculty</th>\n",
       "      <th>ML</th>\n",
       "      <th>DS</th>\n",
       "      <th>CC</th>\n",
       "      <th>Web</th>\n",
       "      <th>Java</th>\n",
       "      <th>Python</th>\n",
       "      <th>C</th>\n",
       "      <th>DBMS</th>\n",
       "      <th>OS</th>\n",
       "      <th>Algorithms</th>\n",
       "      <th>CN</th>\n",
       "    </tr>\n",
       "  </thead>\n",
       "  <tbody>\n",
       "    <tr>\n",
       "      <th>0</th>\n",
       "      <td>Pravallika</td>\n",
       "      <td>Madhu</td>\n",
       "      <td>87</td>\n",
       "      <td>88</td>\n",
       "      <td>91</td>\n",
       "      <td>92</td>\n",
       "      <td>90</td>\n",
       "      <td>96.0</td>\n",
       "      <td>85</td>\n",
       "      <td>95</td>\n",
       "      <td>95</td>\n",
       "      <td>89.0</td>\n",
       "      <td>NaN</td>\n",
       "    </tr>\n",
       "    <tr>\n",
       "      <th>1</th>\n",
       "      <td>Bhanu</td>\n",
       "      <td>Neil</td>\n",
       "      <td>94</td>\n",
       "      <td>88</td>\n",
       "      <td>92</td>\n",
       "      <td>90</td>\n",
       "      <td>92</td>\n",
       "      <td>94.0</td>\n",
       "      <td>94</td>\n",
       "      <td>93</td>\n",
       "      <td>95</td>\n",
       "      <td>96.0</td>\n",
       "      <td>NaN</td>\n",
       "    </tr>\n",
       "    <tr>\n",
       "      <th>2</th>\n",
       "      <td>Chandrika</td>\n",
       "      <td>Abhishek</td>\n",
       "      <td>99</td>\n",
       "      <td>87</td>\n",
       "      <td>89</td>\n",
       "      <td>92</td>\n",
       "      <td>94</td>\n",
       "      <td>87.0</td>\n",
       "      <td>9488</td>\n",
       "      <td>91</td>\n",
       "      <td>98</td>\n",
       "      <td>NaN</td>\n",
       "      <td>NaN</td>\n",
       "    </tr>\n",
       "  </tbody>\n",
       "</table>\n",
       "</div>"
      ],
      "text/plain": [
       "      Student   Faculty  ML  DS  CC  Web  Java  Python     C  DBMS  OS  \\\n",
       "0  Pravallika     Madhu  87  88  91   92    90    96.0    85    95  95   \n",
       "1       Bhanu      Neil  94  88  92   90    92    94.0    94    93  95   \n",
       "2   Chandrika  Abhishek  99  87  89   92    94    87.0  9488    91  98   \n",
       "\n",
       "   Algorithms  CN  \n",
       "0        89.0 NaN  \n",
       "1        96.0 NaN  \n",
       "2         NaN NaN  "
      ]
     },
     "execution_count": 36,
     "metadata": {},
     "output_type": "execute_result"
    }
   ],
   "source": [
    "data.head(3)#first n samples"
   ]
  },
  {
   "cell_type": "code",
   "execution_count": 37,
   "id": "58e27536",
   "metadata": {
    "collapsed": true
   },
   "outputs": [
    {
     "data": {
      "text/html": [
       "<div>\n",
       "<style scoped>\n",
       "    .dataframe tbody tr th:only-of-type {\n",
       "        vertical-align: middle;\n",
       "    }\n",
       "\n",
       "    .dataframe tbody tr th {\n",
       "        vertical-align: top;\n",
       "    }\n",
       "\n",
       "    .dataframe thead th {\n",
       "        text-align: right;\n",
       "    }\n",
       "</style>\n",
       "<table border=\"1\" class=\"dataframe\">\n",
       "  <thead>\n",
       "    <tr style=\"text-align: right;\">\n",
       "      <th></th>\n",
       "      <th>Student</th>\n",
       "      <th>Faculty</th>\n",
       "      <th>ML</th>\n",
       "      <th>DS</th>\n",
       "      <th>CC</th>\n",
       "      <th>Web</th>\n",
       "      <th>Java</th>\n",
       "      <th>Python</th>\n",
       "      <th>C</th>\n",
       "      <th>DBMS</th>\n",
       "      <th>OS</th>\n",
       "      <th>Algorithms</th>\n",
       "      <th>CN</th>\n",
       "    </tr>\n",
       "  </thead>\n",
       "  <tbody>\n",
       "    <tr>\n",
       "      <th>10</th>\n",
       "      <td>Navya</td>\n",
       "      <td>Dinesh</td>\n",
       "      <td>96</td>\n",
       "      <td>96</td>\n",
       "      <td>87</td>\n",
       "      <td>90</td>\n",
       "      <td>93</td>\n",
       "      <td>97.0</td>\n",
       "      <td>100</td>\n",
       "      <td>91</td>\n",
       "      <td>88</td>\n",
       "      <td>93.0</td>\n",
       "      <td>89.0</td>\n",
       "    </tr>\n",
       "    <tr>\n",
       "      <th>11</th>\n",
       "      <td>Sindhu</td>\n",
       "      <td>Yamini</td>\n",
       "      <td>97</td>\n",
       "      <td>90</td>\n",
       "      <td>92</td>\n",
       "      <td>91</td>\n",
       "      <td>85</td>\n",
       "      <td>85.0</td>\n",
       "      <td>98</td>\n",
       "      <td>100</td>\n",
       "      <td>93</td>\n",
       "      <td>88.0</td>\n",
       "      <td>100.0</td>\n",
       "    </tr>\n",
       "    <tr>\n",
       "      <th>12</th>\n",
       "      <td>Mallika</td>\n",
       "      <td>Geethika'</td>\n",
       "      <td>95</td>\n",
       "      <td>94</td>\n",
       "      <td>95</td>\n",
       "      <td>92</td>\n",
       "      <td>100</td>\n",
       "      <td>89.0</td>\n",
       "      <td>88</td>\n",
       "      <td>89</td>\n",
       "      <td>85</td>\n",
       "      <td>91.0</td>\n",
       "      <td>97.0</td>\n",
       "    </tr>\n",
       "    <tr>\n",
       "      <th>13</th>\n",
       "      <td>Madhavi</td>\n",
       "      <td>S</td>\n",
       "      <td>87</td>\n",
       "      <td>97</td>\n",
       "      <td>93</td>\n",
       "      <td>88</td>\n",
       "      <td>91</td>\n",
       "      <td>97.0</td>\n",
       "      <td>97</td>\n",
       "      <td>99</td>\n",
       "      <td>87</td>\n",
       "      <td>98.0</td>\n",
       "      <td>86.0</td>\n",
       "    </tr>\n",
       "    <tr>\n",
       "      <th>14</th>\n",
       "      <td>Naresh</td>\n",
       "      <td>x</td>\n",
       "      <td>97</td>\n",
       "      <td>99</td>\n",
       "      <td>97</td>\n",
       "      <td>99</td>\n",
       "      <td>91</td>\n",
       "      <td>98.0</td>\n",
       "      <td>92</td>\n",
       "      <td>94</td>\n",
       "      <td>90</td>\n",
       "      <td>90.0</td>\n",
       "      <td>93.0</td>\n",
       "    </tr>\n",
       "  </tbody>\n",
       "</table>\n",
       "</div>"
      ],
      "text/plain": [
       "    Student    Faculty  ML  DS  CC  Web  Java  Python    C  DBMS  OS  \\\n",
       "10    Navya     Dinesh  96  96  87   90    93    97.0  100    91  88   \n",
       "11   Sindhu     Yamini  97  90  92   91    85    85.0   98   100  93   \n",
       "12  Mallika  Geethika'  95  94  95   92   100    89.0   88    89  85   \n",
       "13  Madhavi          S  87  97  93   88    91    97.0   97    99  87   \n",
       "14   Naresh          x  97  99  97   99    91    98.0   92    94  90   \n",
       "\n",
       "    Algorithms     CN  \n",
       "10        93.0   89.0  \n",
       "11        88.0  100.0  \n",
       "12        91.0   97.0  \n",
       "13        98.0   86.0  \n",
       "14        90.0   93.0  "
      ]
     },
     "execution_count": 37,
     "metadata": {},
     "output_type": "execute_result"
    }
   ],
   "source": [
    "data.tail() # last 5 samples"
   ]
  },
  {
   "cell_type": "code",
   "execution_count": 38,
   "id": "70fcb279",
   "metadata": {
    "collapsed": true
   },
   "outputs": [
    {
     "data": {
      "text/html": [
       "<div>\n",
       "<style scoped>\n",
       "    .dataframe tbody tr th:only-of-type {\n",
       "        vertical-align: middle;\n",
       "    }\n",
       "\n",
       "    .dataframe tbody tr th {\n",
       "        vertical-align: top;\n",
       "    }\n",
       "\n",
       "    .dataframe thead th {\n",
       "        text-align: right;\n",
       "    }\n",
       "</style>\n",
       "<table border=\"1\" class=\"dataframe\">\n",
       "  <thead>\n",
       "    <tr style=\"text-align: right;\">\n",
       "      <th></th>\n",
       "      <th>Student</th>\n",
       "      <th>Faculty</th>\n",
       "      <th>ML</th>\n",
       "      <th>DS</th>\n",
       "      <th>CC</th>\n",
       "      <th>Web</th>\n",
       "      <th>Java</th>\n",
       "      <th>Python</th>\n",
       "      <th>C</th>\n",
       "      <th>DBMS</th>\n",
       "      <th>OS</th>\n",
       "      <th>Algorithms</th>\n",
       "      <th>CN</th>\n",
       "    </tr>\n",
       "  </thead>\n",
       "  <tbody>\n",
       "    <tr>\n",
       "      <th>12</th>\n",
       "      <td>Mallika</td>\n",
       "      <td>Geethika'</td>\n",
       "      <td>95</td>\n",
       "      <td>94</td>\n",
       "      <td>95</td>\n",
       "      <td>92</td>\n",
       "      <td>100</td>\n",
       "      <td>89.0</td>\n",
       "      <td>88</td>\n",
       "      <td>89</td>\n",
       "      <td>85</td>\n",
       "      <td>91.0</td>\n",
       "      <td>97.0</td>\n",
       "    </tr>\n",
       "    <tr>\n",
       "      <th>13</th>\n",
       "      <td>Madhavi</td>\n",
       "      <td>S</td>\n",
       "      <td>87</td>\n",
       "      <td>97</td>\n",
       "      <td>93</td>\n",
       "      <td>88</td>\n",
       "      <td>91</td>\n",
       "      <td>97.0</td>\n",
       "      <td>97</td>\n",
       "      <td>99</td>\n",
       "      <td>87</td>\n",
       "      <td>98.0</td>\n",
       "      <td>86.0</td>\n",
       "    </tr>\n",
       "    <tr>\n",
       "      <th>14</th>\n",
       "      <td>Naresh</td>\n",
       "      <td>x</td>\n",
       "      <td>97</td>\n",
       "      <td>99</td>\n",
       "      <td>97</td>\n",
       "      <td>99</td>\n",
       "      <td>91</td>\n",
       "      <td>98.0</td>\n",
       "      <td>92</td>\n",
       "      <td>94</td>\n",
       "      <td>90</td>\n",
       "      <td>90.0</td>\n",
       "      <td>93.0</td>\n",
       "    </tr>\n",
       "  </tbody>\n",
       "</table>\n",
       "</div>"
      ],
      "text/plain": [
       "    Student    Faculty  ML  DS  CC  Web  Java  Python   C  DBMS  OS  \\\n",
       "12  Mallika  Geethika'  95  94  95   92   100    89.0  88    89  85   \n",
       "13  Madhavi          S  87  97  93   88    91    97.0  97    99  87   \n",
       "14   Naresh          x  97  99  97   99    91    98.0  92    94  90   \n",
       "\n",
       "    Algorithms    CN  \n",
       "12        91.0  97.0  \n",
       "13        98.0  86.0  \n",
       "14        90.0  93.0  "
      ]
     },
     "execution_count": 38,
     "metadata": {},
     "output_type": "execute_result"
    }
   ],
   "source": [
    "data.tail(3)#last 3 samples"
   ]
  },
  {
   "cell_type": "code",
   "execution_count": 40,
   "id": "24e0fe49",
   "metadata": {
    "collapsed": true
   },
   "outputs": [
    {
     "data": {
      "text/html": [
       "<div>\n",
       "<style scoped>\n",
       "    .dataframe tbody tr th:only-of-type {\n",
       "        vertical-align: middle;\n",
       "    }\n",
       "\n",
       "    .dataframe tbody tr th {\n",
       "        vertical-align: top;\n",
       "    }\n",
       "\n",
       "    .dataframe thead th {\n",
       "        text-align: right;\n",
       "    }\n",
       "</style>\n",
       "<table border=\"1\" class=\"dataframe\">\n",
       "  <thead>\n",
       "    <tr style=\"text-align: right;\">\n",
       "      <th></th>\n",
       "      <th>Student</th>\n",
       "      <th>Faculty</th>\n",
       "      <th>ML</th>\n",
       "      <th>DS</th>\n",
       "      <th>CC</th>\n",
       "      <th>Web</th>\n",
       "      <th>Java</th>\n",
       "      <th>Python</th>\n",
       "      <th>C</th>\n",
       "      <th>DBMS</th>\n",
       "      <th>OS</th>\n",
       "      <th>Algorithms</th>\n",
       "      <th>CN</th>\n",
       "    </tr>\n",
       "  </thead>\n",
       "  <tbody>\n",
       "    <tr>\n",
       "      <th>0</th>\n",
       "      <td>Pravallika</td>\n",
       "      <td>Madhu</td>\n",
       "      <td>87</td>\n",
       "      <td>88</td>\n",
       "      <td>91</td>\n",
       "      <td>92</td>\n",
       "      <td>90</td>\n",
       "      <td>96.0</td>\n",
       "      <td>85</td>\n",
       "      <td>95</td>\n",
       "      <td>95</td>\n",
       "      <td>89.0</td>\n",
       "      <td>NaN</td>\n",
       "    </tr>\n",
       "  </tbody>\n",
       "</table>\n",
       "</div>"
      ],
      "text/plain": [
       "      Student Faculty  ML  DS  CC  Web  Java  Python   C  DBMS  OS  \\\n",
       "0  Pravallika   Madhu  87  88  91   92    90    96.0  85    95  95   \n",
       "\n",
       "   Algorithms  CN  \n",
       "0        89.0 NaN  "
      ]
     },
     "execution_count": 40,
     "metadata": {},
     "output_type": "execute_result"
    }
   ],
   "source": [
    "data.sample()# any random sample"
   ]
  },
  {
   "cell_type": "code",
   "execution_count": 41,
   "id": "ac3acab7",
   "metadata": {
    "collapsed": true
   },
   "outputs": [
    {
     "data": {
      "text/html": [
       "<div>\n",
       "<style scoped>\n",
       "    .dataframe tbody tr th:only-of-type {\n",
       "        vertical-align: middle;\n",
       "    }\n",
       "\n",
       "    .dataframe tbody tr th {\n",
       "        vertical-align: top;\n",
       "    }\n",
       "\n",
       "    .dataframe thead th {\n",
       "        text-align: right;\n",
       "    }\n",
       "</style>\n",
       "<table border=\"1\" class=\"dataframe\">\n",
       "  <thead>\n",
       "    <tr style=\"text-align: right;\">\n",
       "      <th></th>\n",
       "      <th>Student</th>\n",
       "      <th>Faculty</th>\n",
       "      <th>ML</th>\n",
       "      <th>DS</th>\n",
       "      <th>CC</th>\n",
       "      <th>Web</th>\n",
       "      <th>Java</th>\n",
       "      <th>Python</th>\n",
       "      <th>C</th>\n",
       "      <th>DBMS</th>\n",
       "      <th>OS</th>\n",
       "      <th>Algorithms</th>\n",
       "      <th>CN</th>\n",
       "    </tr>\n",
       "  </thead>\n",
       "  <tbody>\n",
       "    <tr>\n",
       "      <th>7</th>\n",
       "      <td>Fathima</td>\n",
       "      <td>Nithesh</td>\n",
       "      <td>98</td>\n",
       "      <td>89</td>\n",
       "      <td>90</td>\n",
       "      <td>91</td>\n",
       "      <td>95</td>\n",
       "      <td>90.0</td>\n",
       "      <td>98</td>\n",
       "      <td>99</td>\n",
       "      <td>85</td>\n",
       "      <td>95.0</td>\n",
       "      <td>NaN</td>\n",
       "    </tr>\n",
       "    <tr>\n",
       "      <th>8</th>\n",
       "      <td>Kavya</td>\n",
       "      <td>Ashok</td>\n",
       "      <td>96</td>\n",
       "      <td>94</td>\n",
       "      <td>91</td>\n",
       "      <td>97</td>\n",
       "      <td>92</td>\n",
       "      <td>NaN</td>\n",
       "      <td>85</td>\n",
       "      <td>90</td>\n",
       "      <td>93</td>\n",
       "      <td>100.0</td>\n",
       "      <td>NaN</td>\n",
       "    </tr>\n",
       "    <tr>\n",
       "      <th>0</th>\n",
       "      <td>Pravallika</td>\n",
       "      <td>Madhu</td>\n",
       "      <td>87</td>\n",
       "      <td>88</td>\n",
       "      <td>91</td>\n",
       "      <td>92</td>\n",
       "      <td>90</td>\n",
       "      <td>96.0</td>\n",
       "      <td>85</td>\n",
       "      <td>95</td>\n",
       "      <td>95</td>\n",
       "      <td>89.0</td>\n",
       "      <td>NaN</td>\n",
       "    </tr>\n",
       "    <tr>\n",
       "      <th>12</th>\n",
       "      <td>Mallika</td>\n",
       "      <td>Geethika'</td>\n",
       "      <td>95</td>\n",
       "      <td>94</td>\n",
       "      <td>95</td>\n",
       "      <td>92</td>\n",
       "      <td>100</td>\n",
       "      <td>89.0</td>\n",
       "      <td>88</td>\n",
       "      <td>89</td>\n",
       "      <td>85</td>\n",
       "      <td>91.0</td>\n",
       "      <td>97.0</td>\n",
       "    </tr>\n",
       "    <tr>\n",
       "      <th>4</th>\n",
       "      <td>Elisha</td>\n",
       "      <td>Harsha</td>\n",
       "      <td>95</td>\n",
       "      <td>85</td>\n",
       "      <td>91</td>\n",
       "      <td>95</td>\n",
       "      <td>85</td>\n",
       "      <td>97.0</td>\n",
       "      <td>91</td>\n",
       "      <td>89</td>\n",
       "      <td>86</td>\n",
       "      <td>100.0</td>\n",
       "      <td>100.0</td>\n",
       "    </tr>\n",
       "  </tbody>\n",
       "</table>\n",
       "</div>"
      ],
      "text/plain": [
       "       Student    Faculty  ML  DS  CC  Web  Java  Python   C  DBMS  OS  \\\n",
       "7      Fathima    Nithesh  98  89  90   91    95    90.0  98    99  85   \n",
       "8        Kavya      Ashok  96  94  91   97    92     NaN  85    90  93   \n",
       "0   Pravallika      Madhu  87  88  91   92    90    96.0  85    95  95   \n",
       "12     Mallika  Geethika'  95  94  95   92   100    89.0  88    89  85   \n",
       "4       Elisha     Harsha  95  85  91   95    85    97.0  91    89  86   \n",
       "\n",
       "    Algorithms     CN  \n",
       "7         95.0    NaN  \n",
       "8        100.0    NaN  \n",
       "0         89.0    NaN  \n",
       "12        91.0   97.0  \n",
       "4        100.0  100.0  "
      ]
     },
     "execution_count": 41,
     "metadata": {},
     "output_type": "execute_result"
    }
   ],
   "source": [
    "# generate n random samples\n",
    "data.sample(5)"
   ]
  },
  {
   "cell_type": "code",
   "execution_count": null,
   "id": "35758736",
   "metadata": {},
   "outputs": [],
   "source": []
  }
 ],
 "metadata": {
  "kernelspec": {
   "display_name": "Python 3 (ipykernel)",
   "language": "python",
   "name": "python3"
  },
  "language_info": {
   "codemirror_mode": {
    "name": "ipython",
    "version": 3
   },
   "file_extension": ".py",
   "mimetype": "text/x-python",
   "name": "python",
   "nbconvert_exporter": "python",
   "pygments_lexer": "ipython3",
   "version": "3.9.13"
  }
 },
 "nbformat": 4,
 "nbformat_minor": 5
}
