{
 "cells": [
  {
   "cell_type": "code",
   "execution_count": 5,
   "id": "d3c8e3ed",
   "metadata": {
    "collapsed": true
   },
   "outputs": [
    {
     "name": "stdout",
     "output_type": "stream",
     "text": [
      "Enter the number:97865473487485\n",
      "9 7 5 7 3 7 5 sum of odd digits= 43\n"
     ]
    }
   ],
   "source": [
    "# write a python program to find the sum of all digits in the given number\n",
    "#ex i/p:18342769; o/p:1+3+7+9=20\n",
    "num=input(\"Enter the number:\")\n",
    "sm=0\n",
    "for val in num:\n",
    "    if val.isdigit():\n",
    "        if int(val)%2==1:\n",
    "            print(val,end=\" \")\n",
    "            sm+=int(val)\n",
    "print(\"sum of odd digits=\",sm)"
   ]
  },
  {
   "cell_type": "markdown",
   "id": "9a095af0",
   "metadata": {},
   "source": [
    "#### Data Strutcure\n",
    "- tuple\n",
    "- list\n",
    "- set\n",
    "- dict\n",
    "- **Comprehension**\n",
    "    - comprehension means short description\n",
    "    1. list\n",
    "        - a user/programmer can short/reduce the LoC\n",
    "        - **Syntax**\n",
    "            1. [output input sequence condition]\n",
    "    2. set\n",
    "        - {output input_sequence condition_check}\n",
    "        \n",
    "    3. dictionary comprehension\n",
    "        - {o/p i/p condition}"
   ]
  },
  {
   "cell_type": "code",
   "execution_count": 8,
   "id": "595ef737",
   "metadata": {
    "collapsed": true
   },
   "outputs": [
    {
     "name": "stdout",
     "output_type": "stream",
     "text": [
      "10\n",
      "30\n",
      "[100, 121, 144, 169, 196, 225, 256, 289, 324, 361, 400, 441, 484, 529, 576, 625, 676, 729, 784, 841, 900]\n",
      "10\n",
      "30\n"
     ]
    },
    {
     "data": {
      "text/plain": [
       "[10,\n",
       " 11,\n",
       " 12,\n",
       " 13,\n",
       " 14,\n",
       " 15,\n",
       " 16,\n",
       " 17,\n",
       " 18,\n",
       " 19,\n",
       " 20,\n",
       " 21,\n",
       " 22,\n",
       " 23,\n",
       " 24,\n",
       " 25,\n",
       " 26,\n",
       " 27,\n",
       " 28,\n",
       " 29,\n",
       " 30]"
      ]
     },
     "execution_count": 8,
     "metadata": {},
     "output_type": "execute_result"
    }
   ],
   "source": [
    "# write a python program to store the squares of the nums given in the range\n",
    "sqs=[]\n",
    "lw,up=int(input()),int(input())\n",
    "for val in range(lw,up+1):\n",
    "    sqs.append(val**2)\n",
    "print(sqs)\n"
   ]
  },
  {
   "cell_type": "code",
   "execution_count": 11,
   "id": "8008e7ec",
   "metadata": {
    "collapsed": true
   },
   "outputs": [
    {
     "name": "stdout",
     "output_type": "stream",
     "text": [
      "10\n",
      "30\n",
      "100 121 144 169 196 225 256 289 324 361 400 441 484 529 576 625 676 729 784 841 900 "
     ]
    }
   ],
   "source": [
    "comp_li=[print(val**2,end=\" \") for val in range(int(input()),int(input())+1)]"
   ]
  },
  {
   "cell_type": "code",
   "execution_count": 14,
   "id": "205a0fc1",
   "metadata": {
    "collapsed": true
   },
   "outputs": [
    {
     "data": {
      "text/plain": [
       "(set, dict)"
      ]
     },
     "execution_count": 14,
     "metadata": {},
     "output_type": "execute_result"
    }
   ],
   "source": [
    "# set comprehension\n",
    "st=set()\n",
    "d={}\n",
    "type(st),type(d)"
   ]
  },
  {
   "cell_type": "code",
   "execution_count": 17,
   "id": "ec0b6e22",
   "metadata": {
    "collapsed": true
   },
   "outputs": [
    {
     "name": "stdout",
     "output_type": "stream",
     "text": [
      "100 144 196 256 324 400 484 576 676 784 900 1024 1156 1296 1444 1600 1764 1936 "
     ]
    }
   ],
   "source": [
    "# set comprehension\n",
    "st={print(val**2,end=\" \") for val in range(10,45) if val%2==0}"
   ]
  },
  {
   "cell_type": "code",
   "execution_count": 24,
   "id": "6b9ed3f3",
   "metadata": {
    "collapsed": true
   },
   "outputs": [
    {
     "name": "stdout",
     "output_type": "stream",
     "text": [
      "{'S': 83, 'u': 117, 'e': 101, 'o': 111, 'm': 109, 'i': 105}\n"
     ]
    }
   ],
   "source": [
    "# dictionary comprehension\n",
    "# prepare the dict of chars whose ascii value is odd\n",
    "st=\"Student from vvit\"\n",
    "dic={}\n",
    "for ch in st:\n",
    "    if ord(ch)%2==1:\n",
    "        dic[ch]=ord(ch)\n",
    "        \n",
    "print(dic)"
   ]
  },
  {
   "cell_type": "code",
   "execution_count": 27,
   "id": "3f66b860",
   "metadata": {
    "collapsed": true
   },
   "outputs": [
    {
     "name": "stdout",
     "output_type": "stream",
     "text": [
      "I am FRom APSSdc\n",
      "{'I': 73, 'a': 97, 'm': 109, 'o': 111, 'A': 65, 'S': 83, 'c': 99}\n"
     ]
    }
   ],
   "source": [
    "# dictionary comprehension\n",
    "chars={ch:ord(ch) for ch in input() if ord(ch)%2==1}\n",
    "print(chars)"
   ]
  },
  {
   "cell_type": "markdown",
   "id": "c26eb028",
   "metadata": {},
   "source": [
    "#### Files\n",
    "- anything that conatins information/data in a specific format\n",
    "    - files in our device\n",
    "        - Ex: .txt,.py,.doc,.xls,.apk,.mp3,.exe etc\n",
    "\n",
    "- **File Operations**\n",
    "    1. open()\n",
    "        - 2 procedures to open the file\n",
    "    2. read()\n",
    "    3. write()\n",
    "    4. close()"
   ]
  },
  {
   "cell_type": "code",
   "execution_count": 30,
   "id": "ebfa84fc",
   "metadata": {
    "collapsed": true
   },
   "outputs": [
    {
     "name": "stdout",
     "output_type": "stream",
     "text": [
      "This is Day1 at VVIT\n",
      "Comprehensions\n",
      "1.List\n",
      "2. set\n",
      "3. Dictionary\n",
      "and later working with files\n"
     ]
    },
    {
     "data": {
      "text/plain": [
       "(_io.TextIOWrapper, str)"
      ]
     },
     "execution_count": 30,
     "metadata": {},
     "output_type": "execute_result"
    }
   ],
   "source": [
    "# open the existed file and read the content in it\n",
    "file=open(\"day1.txt\",'r') # r means read mode\n",
    "file2=file.read() # \n",
    "print(file2)\n",
    "file.close()\n",
    "type(file),type(file2)"
   ]
  },
  {
   "cell_type": "code",
   "execution_count": 36,
   "id": "bf16f237",
   "metadata": {},
   "outputs": [
    {
     "name": "stdout",
     "output_type": "stream",
     "text": [
      "def is_prime(n):\n",
      "    fc=0\n",
      "    for dig in range(1,n//2+1):\n",
      "        if n%dig==0:\n",
      "            fc+=1\n",
      "    if fc==1:\n",
      "        return True\n",
      "    else:\n",
      "        return False\n",
      "    \n",
      "    \n",
      "#def is_prime(n)"
     ]
    }
   ],
   "source": [
    "# opening the file by using with \n",
    "with open(\"first.py\",'r') as f:\n",
    "    f=f.readlines() # txt file-->list of lines\n",
    "for line in f:\n",
    "    print(line,end=\"\") # print(end=\"\\n\")"
   ]
  },
  {
   "cell_type": "code",
   "execution_count": 40,
   "id": "87bec786",
   "metadata": {},
   "outputs": [
    {
     "data": {
      "text/plain": [
       "20"
      ]
     },
     "execution_count": 40,
     "metadata": {},
     "output_type": "execute_result"
    }
   ],
   "source": [
    "# write() in files\n",
    "# write() overwrites existed data\n",
    "wr=open('day1.txt','w')\n",
    "wr.write(\"data gets overwrited\") # writelines()\n",
    "# it is giving the size of file\n",
    "#wr.close()"
   ]
  },
  {
   "cell_type": "code",
   "execution_count": 42,
   "id": "ab8e288f",
   "metadata": {},
   "outputs": [],
   "source": [
    "# append is the mode\n",
    "with open('day1.txt','a') as w:\n",
    "    w.write(\"\\nworing with append mode\")\n",
    "    w.close()"
   ]
  },
  {
   "cell_type": "code",
   "execution_count": 43,
   "id": "b4ff5e38",
   "metadata": {
    "collapsed": true
   },
   "outputs": [
    {
     "name": "stdout",
     "output_type": "stream",
     "text": [
      "<_io.TextIOWrapper name='first.py' mode='r+' encoding='cp1252'>\n"
     ]
    }
   ],
   "source": [
    "# read and write is r+\n",
    "py_file=open(\"first.py\",'r+')\n",
    "print(py_file)\n",
    "py_file.write(\"print('\\nwelcome to r+ mode')\")\n",
    "py_file.close()"
   ]
  },
  {
   "cell_type": "code",
   "execution_count": 44,
   "id": "9b42d260",
   "metadata": {},
   "outputs": [],
   "source": [
    "# a user/program can create new file using write()\n",
    "n=open(\"new.txt\",'w')\n",
    "n.write(\"Created the file using write()\")\n",
    "n.close()"
   ]
  },
  {
   "cell_type": "code",
   "execution_count": 45,
   "id": "7f1dfe65",
   "metadata": {},
   "outputs": [],
   "source": [
    "# you can open the working file"
   ]
  },
  {
   "cell_type": "markdown",
   "id": "033f72a0",
   "metadata": {},
   "source": [
    "#### modules and packages\n",
    "- group of statements called as a function\n",
    "- group/collection of functions called as a module\n",
    "- collection of modules called as a package"
   ]
  },
  {
   "cell_type": "code",
   "execution_count": null,
   "id": "1798fbb8",
   "metadata": {},
   "outputs": [],
   "source": []
  }
 ],
 "metadata": {
  "kernelspec": {
   "display_name": "Python 3 (ipykernel)",
   "language": "python",
   "name": "python3"
  },
  "language_info": {
   "codemirror_mode": {
    "name": "ipython",
    "version": 3
   },
   "file_extension": ".py",
   "mimetype": "text/x-python",
   "name": "python",
   "nbconvert_exporter": "python",
   "pygments_lexer": "ipython3",
   "version": "3.9.13"
  }
 },
 "nbformat": 4,
 "nbformat_minor": 5
}
