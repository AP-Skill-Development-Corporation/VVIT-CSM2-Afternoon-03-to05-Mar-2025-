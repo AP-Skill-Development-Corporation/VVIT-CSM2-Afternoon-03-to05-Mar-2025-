{
 "cells": [
  {
   "cell_type": "code",
   "execution_count": 2,
   "id": "91fbfc95",
   "metadata": {},
   "outputs": [],
   "source": [
    "import Day"
   ]
  },
  {
   "cell_type": "code",
   "execution_count": 3,
   "id": "3b84c9fe",
   "metadata": {},
   "outputs": [],
   "source": [
    "from Day import first,second"
   ]
  },
  {
   "cell_type": "code",
   "execution_count": 4,
   "id": "27905af6",
   "metadata": {},
   "outputs": [
    {
     "name": "stdout",
     "output_type": "stream",
     "text": [
      "['__builtins__', '__cached__', '__doc__', '__file__', '__loader__', '__name__', '__package__', '__spec__', 'factorial', 'is_even', 'is_odd']\n"
     ]
    }
   ],
   "source": [
    "print(dir(first))"
   ]
  },
  {
   "cell_type": "code",
   "execution_count": 5,
   "id": "dbf5c415",
   "metadata": {
    "collapsed": true
   },
   "outputs": [
    {
     "name": "stdout",
     "output_type": "stream",
     "text": [
      "['__builtins__', '__cached__', '__doc__', '__file__', '__loader__', '__name__', '__package__', '__spec__', 'is_palindrome', 'string_methods']\n"
     ]
    }
   ],
   "source": [
    "print(dir(second))"
   ]
  },
  {
   "cell_type": "code",
   "execution_count": 6,
   "id": "23a20d91",
   "metadata": {},
   "outputs": [
    {
     "name": "stdout",
     "output_type": "stream",
     "text": [
      "Help on function factorial in module Day.first:\n",
      "\n",
      "factorial(n)\n",
      "    # is_odd()\n",
      "\n"
     ]
    }
   ],
   "source": [
    "help(first.factorial)"
   ]
  },
  {
   "cell_type": "code",
   "execution_count": 7,
   "id": "71117f95",
   "metadata": {
    "collapsed": true
   },
   "outputs": [
    {
     "name": "stdout",
     "output_type": "stream",
     "text": [
      "factorial of  5 = 120\n"
     ]
    }
   ],
   "source": [
    "first.factorial(5)"
   ]
  },
  {
   "cell_type": "code",
   "execution_count": 8,
   "id": "63fdaa50",
   "metadata": {
    "collapsed": true
   },
   "outputs": [
    {
     "name": "stdout",
     "output_type": "stream",
     "text": [
      "Help on function string_methods in module Day.second:\n",
      "\n",
      "string_methods(st, ch)\n",
      "\n"
     ]
    }
   ],
   "source": [
    "help(second.string_methods)"
   ]
  },
  {
   "cell_type": "code",
   "execution_count": 9,
   "id": "03ae9d62",
   "metadata": {
    "collapsed": true
   },
   "outputs": [
    {
     "name": "stdout",
     "output_type": "stream",
     "text": [
      "frequency of  a = 4\n",
      "startswith False\n",
      "endswith  False\n",
      "lowercase  vvit located at nambur is an eng clg\n",
      "uppwercase  VVIT LOCATED AT NAMBUR IS AN ENG CLG\n",
      "string to title  Vvit Located At Nambur Is An Eng Clg\n",
      "sting to capitalize Vvit located at nambur is an eng clg\n"
     ]
    }
   ],
   "source": [
    "second.string_methods(\"VVIT located at Nambur is an eng clg\",'a')"
   ]
  },
  {
   "cell_type": "code",
   "execution_count": null,
   "id": "1af2e284",
   "metadata": {},
   "outputs": [],
   "source": []
  },
  {
   "cell_type": "code",
   "execution_count": 14,
   "id": "fa4ecd20",
   "metadata": {},
   "outputs": [
    {
     "name": "stdout",
     "output_type": "stream",
     "text": [
      "Help on function factorial in module package.first_mod:\n",
      "\n",
      "factorial(n)\n",
      "    #is_odd(n)\n",
      "\n"
     ]
    }
   ],
   "source": [
    "help(first_mod.factorial)"
   ]
  },
  {
   "cell_type": "code",
   "execution_count": 15,
   "id": "bb177390",
   "metadata": {},
   "outputs": [
    {
     "data": {
      "text/plain": [
       "120"
      ]
     },
     "execution_count": 15,
     "metadata": {},
     "output_type": "execute_result"
    }
   ],
   "source": [
    "first_mod.factorial(5)"
   ]
  },
  {
   "cell_type": "code",
   "execution_count": 16,
   "id": "df2e5a14",
   "metadata": {},
   "outputs": [
    {
     "data": {
      "text/plain": [
       "True"
      ]
     },
     "execution_count": 16,
     "metadata": {},
     "output_type": "execute_result"
    }
   ],
   "source": [
    "first_mod.is_even(4)"
   ]
  },
  {
   "cell_type": "code",
   "execution_count": 17,
   "id": "78bcf269",
   "metadata": {},
   "outputs": [
    {
     "data": {
      "text/plain": [
       "False"
      ]
     },
     "execution_count": 17,
     "metadata": {},
     "output_type": "execute_result"
    }
   ],
   "source": [
    "first_mod.is_even(5)"
   ]
  },
  {
   "cell_type": "code",
   "execution_count": 18,
   "id": "0848414b",
   "metadata": {},
   "outputs": [
    {
     "name": "stdout",
     "output_type": "stream",
     "text": [
      "Help on function string_methods in module package.sec_mod:\n",
      "\n",
      "string_methods(st, ch)\n",
      "    # string methods\n",
      "\n"
     ]
    }
   ],
   "source": [
    "help(sec_mod.string_methods)"
   ]
  },
  {
   "cell_type": "markdown",
   "id": "25ae03fc",
   "metadata": {
    "collapsed": true
   },
   "source": [
    "#### Introduction to Data Analysis\n",
    "- information stored in a file\n",
    "- kinds of data\n",
    "    - Data in realtime\n",
    "        1. Discrete\n",
    "            - this type of data is fixed/constant\n",
    "                - Ex:Nationality,Name,Color,aadhar number etc.\n",
    "            - 2 types of data\n",
    "                1. Qunatitative\n",
    "                    - data is represented in terms of size/volume\n",
    "                        - file size\n",
    "                2. Qualitative \n",
    "                    - data is represented in the form of quality\n",
    "                        - feedback form\n",
    "        2. Continuous\n",
    "            - height,weight etc\n",
    "            \n",
    "     - Data in our devices\n",
    "         - images(.jpg,png,.jpeg)\n",
    "         - videos(.mp4)\n",
    "         - audio(.mp3)\n",
    "         - exe\n",
    "         \n",
    "     - Data in Statistics\n",
    "        1. Nominal\n",
    "            - data is arranged based on the names\n",
    "        2. Categorical\n",
    "            - data is catogerized on the type\n",
    "        3. Rational\n",
    "            - data is in the form of p/q\n",
    "        4. Interval\n",
    "            - data stored in an interval/range\n",
    "     "
   ]
  },
  {
   "cell_type": "markdown",
   "id": "f1ecabb0",
   "metadata": {},
   "source": [
    "####  Modules\n",
    "1. Numpy\n",
    "    - one of the most important modules of data science\n",
    "    - Numerical Python\n",
    "    - mainly used for scientific computation of the data\n",
    "2. Pandas\n",
    "3. Matplotlib and seaborn"
   ]
  },
  {
   "cell_type": "code",
   "execution_count": 10,
   "id": "5afc664b",
   "metadata": {},
   "outputs": [],
   "source": [
    "import numpy as n"
   ]
  },
  {
   "cell_type": "code",
   "execution_count": 11,
   "id": "4f905a46",
   "metadata": {
    "collapsed": true
   },
   "outputs": [
    {
     "data": {
      "text/plain": [
       "'1.21.5'"
      ]
     },
     "execution_count": 11,
     "metadata": {},
     "output_type": "execute_result"
    }
   ],
   "source": [
    "n.__version__"
   ]
  },
  {
   "cell_type": "code",
   "execution_count": 13,
   "id": "96dfcf6d",
   "metadata": {
    "collapsed": true
   },
   "outputs": [
    {
     "name": "stdout",
     "output_type": "stream",
     "text": [
      "['ALLOW_THREADS', 'AxisError', 'BUFSIZE', 'Bytes0', 'CLIP', 'ComplexWarning', 'DataSource', 'Datetime64', 'ERR_CALL', 'ERR_DEFAULT', 'ERR_IGNORE', 'ERR_LOG', 'ERR_PRINT', 'ERR_RAISE', 'ERR_WARN', 'FLOATING_POINT_SUPPORT', 'FPE_DIVIDEBYZERO', 'FPE_INVALID', 'FPE_OVERFLOW', 'FPE_UNDERFLOW', 'False_', 'Inf', 'Infinity', 'MAXDIMS', 'MAY_SHARE_BOUNDS', 'MAY_SHARE_EXACT', 'MachAr', 'ModuleDeprecationWarning', 'NAN', 'NINF', 'NZERO', 'NaN', 'PINF', 'PZERO', 'RAISE', 'RankWarning', 'SHIFT_DIVIDEBYZERO', 'SHIFT_INVALID', 'SHIFT_OVERFLOW', 'SHIFT_UNDERFLOW', 'ScalarType', 'Str0', 'Tester', 'TooHardError', 'True_', 'UFUNC_BUFSIZE_DEFAULT', 'UFUNC_PYVALS_NAME', 'Uint64', 'VisibleDeprecationWarning', 'WRAP', '_NoValue', '_UFUNC_API', '__NUMPY_SETUP__', '__all__', '__builtins__', '__cached__', '__config__', '__deprecated_attrs__', '__dir__', '__doc__', '__expired_functions__', '__file__', '__getattr__', '__git_version__', '__loader__', '__mkl_version__', '__name__', '__package__', '__path__', '__spec__', '__version__', '_add_newdoc_ufunc', '_distributor_init', '_financial_names', '_globals', '_mat', '_pytesttester', '_version', 'abs', 'absolute', 'add', 'add_docstring', 'add_newdoc', 'add_newdoc_ufunc', 'alen', 'all', 'allclose', 'alltrue', 'amax', 'amin', 'angle', 'any', 'append', 'apply_along_axis', 'apply_over_axes', 'arange', 'arccos', 'arccosh', 'arcsin', 'arcsinh', 'arctan', 'arctan2', 'arctanh', 'argmax', 'argmin', 'argpartition', 'argsort', 'argwhere', 'around', 'array', 'array2string', 'array_equal', 'array_equiv', 'array_repr', 'array_split', 'array_str', 'asanyarray', 'asarray', 'asarray_chkfinite', 'ascontiguousarray', 'asfarray', 'asfortranarray', 'asmatrix', 'asscalar', 'atleast_1d', 'atleast_2d', 'atleast_3d', 'average', 'bartlett', 'base_repr', 'binary_repr', 'bincount', 'bitwise_and', 'bitwise_not', 'bitwise_or', 'bitwise_xor', 'blackman', 'block', 'bmat', 'bool8', 'bool_', 'broadcast', 'broadcast_arrays', 'broadcast_shapes', 'broadcast_to', 'busday_count', 'busday_offset', 'busdaycalendar', 'byte', 'byte_bounds', 'bytes0', 'bytes_', 'c_', 'can_cast', 'cast', 'cbrt', 'cdouble', 'ceil', 'cfloat', 'char', 'character', 'chararray', 'choose', 'clip', 'clongdouble', 'clongfloat', 'column_stack', 'common_type', 'compare_chararrays', 'compat', 'complex128', 'complex64', 'complex_', 'complexfloating', 'compress', 'concatenate', 'conj', 'conjugate', 'convolve', 'copy', 'copysign', 'copyto', 'core', 'corrcoef', 'correlate', 'cos', 'cosh', 'count_nonzero', 'cov', 'cross', 'csingle', 'ctypeslib', 'cumprod', 'cumproduct', 'cumsum', 'datetime64', 'datetime_as_string', 'datetime_data', 'deg2rad', 'degrees', 'delete', 'deprecate', 'deprecate_with_doc', 'diag', 'diag_indices', 'diag_indices_from', 'diagflat', 'diagonal', 'diff', 'digitize', 'disp', 'divide', 'divmod', 'dot', 'double', 'dsplit', 'dstack', 'dtype', 'e', 'ediff1d', 'einsum', 'einsum_path', 'emath', 'empty', 'empty_like', 'equal', 'errstate', 'euler_gamma', 'exp', 'exp2', 'expand_dims', 'expm1', 'extract', 'eye', 'fabs', 'fastCopyAndTranspose', 'fft', 'fill_diagonal', 'find_common_type', 'finfo', 'fix', 'flatiter', 'flatnonzero', 'flexible', 'flip', 'fliplr', 'flipud', 'float16', 'float32', 'float64', 'float_', 'float_power', 'floating', 'floor', 'floor_divide', 'fmax', 'fmin', 'fmod', 'format_float_positional', 'format_float_scientific', 'format_parser', 'frexp', 'frombuffer', 'fromfile', 'fromfunction', 'fromiter', 'frompyfunc', 'fromregex', 'fromstring', 'full', 'full_like', 'gcd', 'generic', 'genfromtxt', 'geomspace', 'get_array_wrap', 'get_include', 'get_printoptions', 'getbufsize', 'geterr', 'geterrcall', 'geterrobj', 'gradient', 'greater', 'greater_equal', 'half', 'hamming', 'hanning', 'heaviside', 'histogram', 'histogram2d', 'histogram_bin_edges', 'histogramdd', 'hsplit', 'hstack', 'hypot', 'i0', 'identity', 'iinfo', 'imag', 'in1d', 'index_exp', 'indices', 'inexact', 'inf', 'info', 'infty', 'inner', 'insert', 'int0', 'int16', 'int32', 'int64', 'int8', 'int_', 'intc', 'integer', 'interp', 'intersect1d', 'intp', 'invert', 'is_busday', 'isclose', 'iscomplex', 'iscomplexobj', 'isfinite', 'isfortran', 'isin', 'isinf', 'isnan', 'isnat', 'isneginf', 'isposinf', 'isreal', 'isrealobj', 'isscalar', 'issctype', 'issubclass_', 'issubdtype', 'issubsctype', 'iterable', 'ix_', 'kaiser', 'kron', 'lcm', 'ldexp', 'left_shift', 'less', 'less_equal', 'lexsort', 'lib', 'linalg', 'linspace', 'little_endian', 'load', 'loads', 'loadtxt', 'log', 'log10', 'log1p', 'log2', 'logaddexp', 'logaddexp2', 'logical_and', 'logical_not', 'logical_or', 'logical_xor', 'logspace', 'longcomplex', 'longdouble', 'longfloat', 'longlong', 'lookfor', 'ma', 'mafromtxt', 'mask_indices', 'mat', 'math', 'matmul', 'matrix', 'matrixlib', 'max', 'maximum', 'maximum_sctype', 'may_share_memory', 'mean', 'median', 'memmap', 'meshgrid', 'mgrid', 'min', 'min_scalar_type', 'minimum', 'mintypecode', 'mkl', 'mod', 'modf', 'moveaxis', 'msort', 'multiply', 'nan', 'nan_to_num', 'nanargmax', 'nanargmin', 'nancumprod', 'nancumsum', 'nanmax', 'nanmean', 'nanmedian', 'nanmin', 'nanpercentile', 'nanprod', 'nanquantile', 'nanstd', 'nansum', 'nanvar', 'nbytes', 'ndarray', 'ndenumerate', 'ndfromtxt', 'ndim', 'ndindex', 'nditer', 'negative', 'nested_iters', 'newaxis', 'nextafter', 'nonzero', 'not_equal', 'numarray', 'number', 'obj2sctype', 'object0', 'object_', 'ogrid', 'oldnumeric', 'ones', 'ones_like', 'os', 'outer', 'packbits', 'pad', 'partition', 'percentile', 'pi', 'piecewise', 'place', 'poly', 'poly1d', 'polyadd', 'polyder', 'polydiv', 'polyfit', 'polyint', 'polymul', 'polynomial', 'polysub', 'polyval', 'positive', 'power', 'printoptions', 'prod', 'product', 'promote_types', 'ptp', 'put', 'put_along_axis', 'putmask', 'quantile', 'r_', 'rad2deg', 'radians', 'random', 'ravel', 'ravel_multi_index', 'real', 'real_if_close', 'rec', 'recarray', 'recfromcsv', 'recfromtxt', 'reciprocal', 'record', 'remainder', 'repeat', 'require', 'reshape', 'resize', 'result_type', 'right_shift', 'rint', 'roll', 'rollaxis', 'roots', 'rot90', 'round', 'round_', 'row_stack', 's_', 'safe_eval', 'save', 'savetxt', 'savez', 'savez_compressed', 'sctype2char', 'sctypeDict', 'sctypes', 'searchsorted', 'select', 'set_numeric_ops', 'set_printoptions', 'set_string_function', 'setbufsize', 'setdiff1d', 'seterr', 'seterrcall', 'seterrobj', 'setxor1d', 'shape', 'shares_memory', 'short', 'show_config', 'sign', 'signbit', 'signedinteger', 'sin', 'sinc', 'single', 'singlecomplex', 'sinh', 'size', 'sometrue', 'sort', 'sort_complex', 'source', 'spacing', 'split', 'sqrt', 'square', 'squeeze', 'stack', 'std', 'str0', 'str_', 'string_', 'subtract', 'sum', 'swapaxes', 'sys', 'take', 'take_along_axis', 'tan', 'tanh', 'tensordot', 'test', 'testing', 'tile', 'timedelta64', 'trace', 'tracemalloc_domain', 'transpose', 'trapz', 'tri', 'tril', 'tril_indices', 'tril_indices_from', 'trim_zeros', 'triu', 'triu_indices', 'triu_indices_from', 'true_divide', 'trunc', 'typecodes', 'typename', 'ubyte', 'ufunc', 'uint', 'uint0', 'uint16', 'uint32', 'uint64', 'uint8', 'uintc', 'uintp', 'ulonglong', 'unicode_', 'union1d', 'unique', 'unpackbits', 'unravel_index', 'unsignedinteger', 'unwrap', 'use_hugepage', 'ushort', 'vander', 'var', 'vdot', 'vectorize', 'version', 'void', 'void0', 'vsplit', 'vstack', 'warnings', 'where', 'who', 'zeros', 'zeros_like']\n"
     ]
    }
   ],
   "source": [
    "print(dir(n))"
   ]
  },
  {
   "cell_type": "markdown",
   "id": "601ffb71",
   "metadata": {},
   "source": [
    "##### array()\n",
    "- array() is the sub module of numpy\n",
    "- array is the homogenous data structure allows the user to store only one type of data\n",
    "- immutable in nature\n",
    "- n.array(data)\n",
    "- a user can create upto 32 dimensional array"
   ]
  },
  {
   "cell_type": "code",
   "execution_count": 14,
   "id": "82d32199",
   "metadata": {
    "collapsed": true
   },
   "outputs": [
    {
     "name": "stdout",
     "output_type": "stream",
     "text": [
      "Help on built-in function array in module numpy:\n",
      "\n",
      "array(...)\n",
      "    array(object, dtype=None, *, copy=True, order='K', subok=False, ndmin=0,\n",
      "          like=None)\n",
      "    \n",
      "    Create an array.\n",
      "    \n",
      "    Parameters\n",
      "    ----------\n",
      "    object : array_like\n",
      "        An array, any object exposing the array interface, an object whose\n",
      "        __array__ method returns an array, or any (nested) sequence.\n",
      "    dtype : data-type, optional\n",
      "        The desired data-type for the array.  If not given, then the type will\n",
      "        be determined as the minimum type required to hold the objects in the\n",
      "        sequence.\n",
      "    copy : bool, optional\n",
      "        If true (default), then the object is copied.  Otherwise, a copy will\n",
      "        only be made if __array__ returns a copy, if obj is a nested sequence,\n",
      "        or if a copy is needed to satisfy any of the other requirements\n",
      "        (`dtype`, `order`, etc.).\n",
      "    order : {'K', 'A', 'C', 'F'}, optional\n",
      "        Specify the memory layout of the array. If object is not an array, the\n",
      "        newly created array will be in C order (row major) unless 'F' is\n",
      "        specified, in which case it will be in Fortran order (column major).\n",
      "        If object is an array the following holds.\n",
      "    \n",
      "        ===== ========= ===================================================\n",
      "        order  no copy                     copy=True\n",
      "        ===== ========= ===================================================\n",
      "        'K'   unchanged F & C order preserved, otherwise most similar order\n",
      "        'A'   unchanged F order if input is F and not C, otherwise C order\n",
      "        'C'   C order   C order\n",
      "        'F'   F order   F order\n",
      "        ===== ========= ===================================================\n",
      "    \n",
      "        When ``copy=False`` and a copy is made for other reasons, the result is\n",
      "        the same as if ``copy=True``, with some exceptions for 'A', see the\n",
      "        Notes section. The default order is 'K'.\n",
      "    subok : bool, optional\n",
      "        If True, then sub-classes will be passed-through, otherwise\n",
      "        the returned array will be forced to be a base-class array (default).\n",
      "    ndmin : int, optional\n",
      "        Specifies the minimum number of dimensions that the resulting\n",
      "        array should have.  Ones will be pre-pended to the shape as\n",
      "        needed to meet this requirement.\n",
      "    like : array_like\n",
      "        Reference object to allow the creation of arrays which are not\n",
      "        NumPy arrays. If an array-like passed in as ``like`` supports\n",
      "        the ``__array_function__`` protocol, the result will be defined\n",
      "        by it. In this case, it ensures the creation of an array object\n",
      "        compatible with that passed in via this argument.\n",
      "    \n",
      "        .. versionadded:: 1.20.0\n",
      "    \n",
      "    Returns\n",
      "    -------\n",
      "    out : ndarray\n",
      "        An array object satisfying the specified requirements.\n",
      "    \n",
      "    See Also\n",
      "    --------\n",
      "    empty_like : Return an empty array with shape and type of input.\n",
      "    ones_like : Return an array of ones with shape and type of input.\n",
      "    zeros_like : Return an array of zeros with shape and type of input.\n",
      "    full_like : Return a new array with shape of input filled with value.\n",
      "    empty : Return a new uninitialized array.\n",
      "    ones : Return a new array setting values to one.\n",
      "    zeros : Return a new array setting values to zero.\n",
      "    full : Return a new array of given shape filled with value.\n",
      "    \n",
      "    \n",
      "    Notes\n",
      "    -----\n",
      "    When order is 'A' and `object` is an array in neither 'C' nor 'F' order,\n",
      "    and a copy is forced by a change in dtype, then the order of the result is\n",
      "    not necessarily 'C' as expected. This is likely a bug.\n",
      "    \n",
      "    Examples\n",
      "    --------\n",
      "    >>> np.array([1, 2, 3])\n",
      "    array([1, 2, 3])\n",
      "    \n",
      "    Upcasting:\n",
      "    \n",
      "    >>> np.array([1, 2, 3.0])\n",
      "    array([ 1.,  2.,  3.])\n",
      "    \n",
      "    More than one dimension:\n",
      "    \n",
      "    >>> np.array([[1, 2], [3, 4]])\n",
      "    array([[1, 2],\n",
      "           [3, 4]])\n",
      "    \n",
      "    Minimum dimensions 2:\n",
      "    \n",
      "    >>> np.array([1, 2, 3], ndmin=2)\n",
      "    array([[1, 2, 3]])\n",
      "    \n",
      "    Type provided:\n",
      "    \n",
      "    >>> np.array([1, 2, 3], dtype=complex)\n",
      "    array([ 1.+0.j,  2.+0.j,  3.+0.j])\n",
      "    \n",
      "    Data-type consisting of more than one element:\n",
      "    \n",
      "    >>> x = np.array([(1,2),(3,4)],dtype=[('a','<i4'),('b','<i4')])\n",
      "    >>> x['a']\n",
      "    array([1, 3])\n",
      "    \n",
      "    Creating an array from sub-classes:\n",
      "    \n",
      "    >>> np.array(np.mat('1 2; 3 4'))\n",
      "    array([[1, 2],\n",
      "           [3, 4]])\n",
      "    \n",
      "    >>> np.array(np.mat('1 2; 3 4'), subok=True)\n",
      "    matrix([[1, 2],\n",
      "            [3, 4]])\n",
      "\n"
     ]
    }
   ],
   "source": [
    "help(n.array)"
   ]
  },
  {
   "cell_type": "code",
   "execution_count": 15,
   "id": "1aa4db31",
   "metadata": {
    "collapsed": true
   },
   "outputs": [
    {
     "name": "stdout",
     "output_type": "stream",
     "text": [
      "[ 4  5  6 10]\n"
     ]
    }
   ],
   "source": [
    "print(n.array([4,5,6,10])) # array using list"
   ]
  },
  {
   "cell_type": "code",
   "execution_count": 16,
   "id": "c3cf1cba",
   "metadata": {
    "collapsed": true
   },
   "outputs": [
    {
     "name": "stdout",
     "output_type": "stream",
     "text": [
      "['5' '6' '7' '90.45' 'h']\n"
     ]
    }
   ],
   "source": [
    "print(n.array((5,6,7,90.45,'h')))"
   ]
  },
  {
   "cell_type": "code",
   "execution_count": 17,
   "id": "8a1abe22",
   "metadata": {},
   "outputs": [
    {
     "name": "stdout",
     "output_type": "stream",
     "text": [
      "[ 4.  9. 45. 23. 90.]\n"
     ]
    }
   ],
   "source": [
    "print(n.array([4,9,45,23,90],dtype=float))"
   ]
  },
  {
   "cell_type": "code",
   "execution_count": 18,
   "id": "a1b78d7f",
   "metadata": {
    "collapsed": true
   },
   "outputs": [
    {
     "name": "stdout",
     "output_type": "stream",
     "text": [
      "{'k': 4, 'v': 5}\n"
     ]
    }
   ],
   "source": [
    "print(n.array({'k':4,'v':5})) # 1 dimensional array"
   ]
  },
  {
   "cell_type": "code",
   "execution_count": 19,
   "id": "b2e71669",
   "metadata": {
    "collapsed": true
   },
   "outputs": [
    {
     "name": "stdout",
     "output_type": "stream",
     "text": [
      "[[1 2 3]\n",
      " [4 5 6]]\n"
     ]
    }
   ],
   "source": [
    "#2d arrays : contains rows and columns\n",
    "print(n.array([[1,2,3],[4,5,6]])) # [[],[]]"
   ]
  },
  {
   "cell_type": "code",
   "execution_count": 20,
   "id": "dac49e5d",
   "metadata": {
    "collapsed": true
   },
   "outputs": [
    {
     "data": {
      "text/plain": [
       "array([['1', '2', '3', '4'],\n",
       "       ['5', '6', '7', '8'],\n",
       "       ['a', 'b', 'c', 'd']], dtype='<U11')"
      ]
     },
     "execution_count": 20,
     "metadata": {},
     "output_type": "execute_result"
    }
   ],
   "source": [
    "ar=n.array([(1,2,3,4),(5,6,7,8),('a','b','c','d')])\n",
    "ar"
   ]
  },
  {
   "cell_type": "code",
   "execution_count": 27,
   "id": "e437d15b",
   "metadata": {
    "collapsed": true
   },
   "outputs": [
    {
     "name": "stdout",
     "output_type": "stream",
     "text": [
      "<U11\n",
      "12\n",
      "(3, 4)\n",
      "2\n"
     ]
    }
   ],
   "source": [
    "print(ar.dtype)\n",
    "print(ar.size) # total no.of items in the array\n",
    "print(ar.shape)\n",
    "print(ar.ndim) # dimensions of the array"
   ]
  },
  {
   "cell_type": "markdown",
   "id": "42a07ce2",
   "metadata": {},
   "source": [
    "##### arrays using some other functions\n",
    "- arange()\n",
    "- ones()\n",
    "- zeros()\n",
    "- full()\n",
    "- fill()\n",
    "- diag()\n",
    "- identity()\n",
    "- eye()\n",
    "- linspace()\n",
    "- random()"
   ]
  },
  {
   "cell_type": "code",
   "execution_count": 29,
   "id": "625765e0",
   "metadata": {
    "collapsed": true
   },
   "outputs": [
    {
     "name": "stdout",
     "output_type": "stream",
     "text": [
      "[100 101 102 103 104 105 106 107 108 109 110 111 112 113 114 115 116 117\n",
      " 118 119 120 121 122 123 124]\n",
      "[[100 101 102 103 104]\n",
      " [105 106 107 108 109]\n",
      " [110 111 112 113 114]\n",
      " [115 116 117 118 119]\n",
      " [120 121 122 123 124]]\n"
     ]
    }
   ],
   "source": [
    "print(n.arange(100,125)) # 1d array\n",
    "print(n.arange(100,125).reshape(5,5)) # 2d array\n",
    "# 25:(1,25),(5,5),(25,1)"
   ]
  },
  {
   "cell_type": "code",
   "execution_count": 34,
   "id": "5cc2f211",
   "metadata": {
    "collapsed": true
   },
   "outputs": [
    {
     "name": "stdout",
     "output_type": "stream",
     "text": [
      "[[100 130 160 190 220 250 280]\n",
      " [310 340 370 400 430 460 490]]\n"
     ]
    }
   ],
   "source": [
    "ar=n.arange(100,500,30).reshape(2,7)\n",
    "print(ar)"
   ]
  },
  {
   "cell_type": "code",
   "execution_count": 40,
   "id": "e3179978",
   "metadata": {
    "collapsed": true
   },
   "outputs": [
    {
     "name": "stdout",
     "output_type": "stream",
     "text": [
      "[[100 103 106 109 112 115 118 121 124 127 130 133 136 139 142 145 148]\n",
      " [151 154 157 160 163 166 169 172 175 178 181 184 187 190 193 196 199]]\n"
     ]
    }
   ],
   "source": [
    "print(n.arange(100,200,3).reshape(2,-3))"
   ]
  },
  {
   "cell_type": "code",
   "execution_count": 42,
   "id": "a99528e6",
   "metadata": {
    "collapsed": true
   },
   "outputs": [
    {
     "name": "stdout",
     "output_type": "stream",
     "text": [
      "[[[ 0  1  2  3  4]\n",
      "  [ 5  6  7  8  9]\n",
      "  [10 11 12 13 14]]\n",
      "\n",
      " [[15 16 17 18 19]\n",
      "  [20 21 22 23 24]\n",
      "  [25 26 27 28 29]]\n",
      "\n",
      " [[30 31 32 33 34]\n",
      "  [35 36 37 38 39]\n",
      "  [40 41 42 43 44]]]\n"
     ]
    }
   ],
   "source": [
    "print(n.arange(45).reshape(3,3,5)) # (n,r,c)"
   ]
  },
  {
   "cell_type": "code",
   "execution_count": 45,
   "id": "6cb05f75",
   "metadata": {
    "collapsed": true
   },
   "outputs": [
    {
     "name": "stdout",
     "output_type": "stream",
     "text": [
      "[[[[[[[[[[[[[[[[[[[[[[[[[[[[[[[[ 4.  5.  6.\n",
      "                                10.]]]]]]]]]]]]]]]]]]]]]]]]]]]]]]]]\n"
     ]
    }
   ],
   "source": [
    "# 32 dimensional array\n",
    "print(n.array([4,5,6,10],ndmin=32,dtype=float))"
   ]
  },
  {
   "cell_type": "code",
   "execution_count": 52,
   "id": "46fc2a35",
   "metadata": {
    "collapsed": true
   },
   "outputs": [
    {
     "name": "stdout",
     "output_type": "stream",
     "text": [
      "[1. 1. 1. 1.]\n",
      "[[1. 1. 1.]\n",
      " [1. 1. 1.]\n",
      " [1. 1. 1.]\n",
      " [1. 1. 1.]]\n"
     ]
    }
   ],
   "source": [
    "print(n.ones(4))\n",
    "print(n.ones((4,3)))"
   ]
  },
  {
   "cell_type": "code",
   "execution_count": 53,
   "id": "2f5b2459",
   "metadata": {
    "collapsed": true
   },
   "outputs": [
    {
     "name": "stdout",
     "output_type": "stream",
     "text": [
      "[0. 0. 0. 0. 0.]\n",
      "[[0. 0. 0. 0.]\n",
      " [0. 0. 0. 0.]\n",
      " [0. 0. 0. 0.]\n",
      " [0. 0. 0. 0.]\n",
      " [0. 0. 0. 0.]]\n"
     ]
    }
   ],
   "source": [
    "print(n.zeros(5))\n",
    "print(n.zeros((5,4)))"
   ]
  },
  {
   "cell_type": "code",
   "execution_count": 60,
   "id": "689c0606",
   "metadata": {
    "collapsed": true
   },
   "outputs": [
    {
     "name": "stdout",
     "output_type": "stream",
     "text": [
      "['a' 'a' 'a' 'a']\n",
      "[[9 9 9 9 9]\n",
      " [9 9 9 9 9]\n",
      " [9 9 9 9 9]\n",
      " [9 9 9 9 9]]\n"
     ]
    },
    {
     "data": {
      "text/plain": [
       "array([[8, 8, 8, 8, 8],\n",
       "       [8, 8, 8, 8, 8],\n",
       "       [8, 8, 8, 8, 8],\n",
       "       [8, 8, 8, 8, 8]])"
      ]
     },
     "execution_count": 60,
     "metadata": {},
     "output_type": "execute_result"
    }
   ],
   "source": [
    "fl=n.full(4,'a')\n",
    "fl2=n.full((4,5),9)\n",
    "print(fl)\n",
    "print(fl2)\n",
    "fl2.fill(8)\n",
    "fl2"
   ]
  },
  {
   "cell_type": "code",
   "execution_count": 61,
   "id": "3a5b6c17",
   "metadata": {
    "collapsed": true
   },
   "outputs": [
    {
     "data": {
      "text/plain": [
       "array([[5, 0, 0, 0, 0],\n",
       "       [0, 4, 0, 0, 0],\n",
       "       [0, 0, 3, 0, 0],\n",
       "       [0, 0, 0, 2, 0],\n",
       "       [0, 0, 0, 0, 1]])"
      ]
     },
     "execution_count": 61,
     "metadata": {},
     "output_type": "execute_result"
    }
   ],
   "source": [
    "n.diag([5,4,3,2,1])"
   ]
  },
  {
   "cell_type": "code",
   "execution_count": 63,
   "id": "f0d4f43b",
   "metadata": {
    "collapsed": true
   },
   "outputs": [
    {
     "name": "stdout",
     "output_type": "stream",
     "text": [
      "[[ 0  1  2  3  4]\n",
      " [ 5  6  7  8  9]\n",
      " [10 11 12 13 14]\n",
      " [15 16 17 18 19]\n",
      " [20 21 22 23 24]]\n"
     ]
    },
    {
     "data": {
      "text/plain": [
       "array([ 0,  6, 12, 18, 24])"
      ]
     },
     "execution_count": 63,
     "metadata": {},
     "output_type": "execute_result"
    }
   ],
   "source": [
    "a=n.arange(25).reshape(-1,5)\n",
    "print(a)\n",
    "n.diag(a)"
   ]
  },
  {
   "cell_type": "code",
   "execution_count": 64,
   "id": "814b93d1",
   "metadata": {
    "collapsed": true
   },
   "outputs": [
    {
     "name": "stdout",
     "output_type": "stream",
     "text": [
      "[ 4.          4.12244898  4.24489796  4.36734694  4.48979592  4.6122449\n",
      "  4.73469388  4.85714286  4.97959184  5.10204082  5.2244898   5.34693878\n",
      "  5.46938776  5.59183673  5.71428571  5.83673469  5.95918367  6.08163265\n",
      "  6.20408163  6.32653061  6.44897959  6.57142857  6.69387755  6.81632653\n",
      "  6.93877551  7.06122449  7.18367347  7.30612245  7.42857143  7.55102041\n",
      "  7.67346939  7.79591837  7.91836735  8.04081633  8.16326531  8.28571429\n",
      "  8.40816327  8.53061224  8.65306122  8.7755102   8.89795918  9.02040816\n",
      "  9.14285714  9.26530612  9.3877551   9.51020408  9.63265306  9.75510204\n",
      "  9.87755102 10.        ]\n"
     ]
    }
   ],
   "source": [
    "#linspace:linear space \n",
    "print(n.linspace(4,10))  # 50 partitions by default"
   ]
  },
  {
   "cell_type": "code",
   "execution_count": 65,
   "id": "7e780110",
   "metadata": {
    "collapsed": true
   },
   "outputs": [
    {
     "data": {
      "text/plain": [
       "0.14"
      ]
     },
     "execution_count": 65,
     "metadata": {},
     "output_type": "execute_result"
    }
   ],
   "source": [
    "#4,5,6,7,8,9,10:\n",
    "7/50"
   ]
  },
  {
   "cell_type": "code",
   "execution_count": 67,
   "id": "d5000689",
   "metadata": {
    "collapsed": true
   },
   "outputs": [
    {
     "name": "stdout",
     "output_type": "stream",
     "text": [
      "[[ 4.   4.4  4.8  5.2]\n",
      " [ 5.6  6.   6.4  6.8]\n",
      " [ 7.2  7.6  8.   8.4]\n",
      " [ 8.8  9.2  9.6 10. ]]\n"
     ]
    }
   ],
   "source": [
    "print(n.linspace(4,10,16).reshape(4,4))"
   ]
  },
  {
   "cell_type": "code",
   "execution_count": 68,
   "id": "10dd436f",
   "metadata": {
    "collapsed": true
   },
   "outputs": [
    {
     "data": {
      "text/plain": [
       "0.4375"
      ]
     },
     "execution_count": 68,
     "metadata": {},
     "output_type": "execute_result"
    }
   ],
   "source": [
    "7/16"
   ]
  },
  {
   "cell_type": "markdown",
   "id": "7c56a84b",
   "metadata": {},
   "source": [
    "#### random\n",
    "- random is the sub module of numpy used to generate random data points\n",
    "- n.random()\n",
    "- n.random.random()\n",
    "- n.random.rand()\n",
    "- n.random.randn()\n",
    "- n.random.randint()\n",
    "- n.random.randint(,)\n",
    "- n.random.randint(,,)"
   ]
  },
  {
   "cell_type": "code",
   "execution_count": 71,
   "id": "33bbcc96",
   "metadata": {
    "collapsed": true
   },
   "outputs": [
    {
     "data": {
      "text/plain": [
       "array([[0.26536989, 0.23705877, 0.66713334, 0.12251019],\n",
       "       [0.24200674, 0.94589305, 0.68583184, 0.03722562],\n",
       "       [0.5851861 , 0.14582796, 0.17554906, 0.2341581 ]])"
      ]
     },
     "execution_count": 71,
     "metadata": {},
     "output_type": "execute_result"
    }
   ],
   "source": [
    "ar=n.random.random((3,4))\n",
    "# it will generate random float values b/w 0&1\n",
    "ar"
   ]
  },
  {
   "cell_type": "code",
   "execution_count": 72,
   "id": "f9e36fa6",
   "metadata": {
    "collapsed": true
   },
   "outputs": [
    {
     "data": {
      "text/plain": [
       "array([[0.73063879, 0.84749909, 0.37015054, 0.96295348],\n",
       "       [0.38167859, 0.88821609, 0.96535359, 0.48382469],\n",
       "       [0.68834705, 0.17588247, 0.40343111, 0.92755999]])"
      ]
     },
     "execution_count": 72,
     "metadata": {},
     "output_type": "execute_result"
    }
   ],
   "source": [
    "ar2=n.random.rand(3,4)\n",
    "ar2"
   ]
  },
  {
   "cell_type": "code",
   "execution_count": 73,
   "id": "37b064ba",
   "metadata": {
    "collapsed": true
   },
   "outputs": [
    {
     "name": "stdout",
     "output_type": "stream",
     "text": [
      "[[ 2.21425254e-02  8.10491834e-01 -4.22144153e-04]\n",
      " [-5.07581445e-01  1.37268152e+00  7.65112963e-01]\n",
      " [ 2.16995263e+00 -6.08146133e-01 -1.61167701e+00]]\n"
     ]
    }
   ],
   "source": [
    "print(n.random.randn(3,3))"
   ]
  },
  {
   "cell_type": "code",
   "execution_count": 77,
   "id": "4f9fb62a",
   "metadata": {
    "collapsed": true
   },
   "outputs": [
    {
     "name": "stdout",
     "output_type": "stream",
     "text": [
      "['BitGenerator', 'Generator', 'MT19937', 'PCG64', 'PCG64DXSM', 'Philox', 'RandomState', 'SFC64', 'SeedSequence', '__RandomState_ctor', '__all__', '__builtins__', '__cached__', '__doc__', '__file__', '__loader__', '__name__', '__package__', '__path__', '__spec__', '_bounded_integers', '_common', '_generator', '_mt19937', '_pcg64', '_philox', '_pickle', '_sfc64', 'beta', 'binomial', 'bit_generator', 'bytes', 'chisquare', 'choice', 'default_rng', 'dirichlet', 'exponential', 'f', 'gamma', 'geometric', 'get_state', 'gumbel', 'hypergeometric', 'laplace', 'logistic', 'lognormal', 'logseries', 'mtrand', 'multinomial', 'multivariate_normal', 'negative_binomial', 'noncentral_chisquare', 'noncentral_f', 'normal', 'pareto', 'permutation', 'poisson', 'power', 'rand', 'randint', 'randn', 'random', 'random_integers', 'random_sample', 'ranf', 'rayleigh', 'sample', 'seed', 'set_state', 'shuffle', 'standard_cauchy', 'standard_exponential', 'standard_gamma', 'standard_normal', 'standard_t', 'test', 'triangular', 'uniform', 'vonmises', 'wald', 'weibull', 'zipf']\n"
     ]
    }
   ],
   "source": [
    "print(dir(n.random))"
   ]
  },
  {
   "cell_type": "code",
   "execution_count": null,
   "id": "7211a5d9",
   "metadata": {},
   "outputs": [],
   "source": []
  }
 ],
 "metadata": {
  "kernelspec": {
   "display_name": "Python 3 (ipykernel)",
   "language": "python",
   "name": "python3"
  },
  "language_info": {
   "codemirror_mode": {
    "name": "ipython",
    "version": 3
   },
   "file_extension": ".py",
   "mimetype": "text/x-python",
   "name": "python",
   "nbconvert_exporter": "python",
   "pygments_lexer": "ipython3",
   "version": "3.9.13"
  }
 },
 "nbformat": 4,
 "nbformat_minor": 5
}
